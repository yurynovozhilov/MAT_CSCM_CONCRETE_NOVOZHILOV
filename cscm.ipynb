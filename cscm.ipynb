{
 "cells": [
  {
   "cell_type": "code",
   "execution_count": 1,
   "metadata": {},
   "outputs": [
    {
     "ename": "IndentationError",
     "evalue": "expected an indented block after 'if' statement on line 107 (MatCSCM.py, line 108)",
     "output_type": "error",
     "traceback": [
      "Traceback \u001b[36m(most recent call last)\u001b[39m:\n",
      "  File \u001b[92m~/MAT_CSCM_CONCRETE_NOVOZHILOV/venv312/lib/python3.13/site-packages/IPython/core/interactiveshell.py:3699\u001b[39m in \u001b[95mrun_code\u001b[39m\n    exec(code_obj, self.user_global_ns, self.user_ns)\n",
      "\u001b[36m  \u001b[39m\u001b[36mCell\u001b[39m\u001b[36m \u001b[39m\u001b[32mIn[1]\u001b[39m\u001b[32m, line 7\u001b[39m\n\u001b[31m    \u001b[39m\u001b[31mfrom MatCSCM import MatCSCM, keyword_to_text, plot_elastic_compression_curve\u001b[39m\n",
      "  \u001b[36mFile \u001b[39m\u001b[32m~/MAT_CSCM_CONCRETE_NOVOZHILOV/MatCSCM.py:108\u001b[39m\n\u001b[31m    \u001b[39m\u001b[31mhardening_factor = 1 - np.exp(-CH * plastic_strain * 100)\u001b[39m\n    ^\n\u001b[31mIndentationError\u001b[39m\u001b[31m:\u001b[39m expected an indented block after 'if' statement on line 107\n"
     ]
    }
   ],
   "source": [
    "import os\n",
    "import matplotlib.pyplot as plt\n",
    "import numpy as np\n",
    "import ipywidgets as widgets\n",
    "from IPython.display import display\n",
    "\n",
    "from MatCSCM import MatCSCM, keyword_to_text, plot_elastic_compression_curve\n",
    "from CEB import *\n",
    "from plotcurves import *"
   ]
  },
  {
   "cell_type": "markdown",
   "metadata": {},
   "source": [
    "# CSCM Material Keyword Generator\n",
    "\n",
    "This interactive tool generates CSCM material keywords for LS-DYNA based on specified concrete parameters."
   ]
  },
  {
   "cell_type": "code",
   "execution_count": null,
   "metadata": {},
   "outputs": [],
   "source": [
    "# Note: plot_elastic_compression_curve function has been moved to MatCSCM.py\n",
    "# and is now imported at the top of the notebook\n",
    "\n",
    "# Initial plot with default f_c value can be uncommented if needed\n",
    "# plot_elastic_compression_curve(33.0)"
   ]
  },
  {
   "cell_type": "code",
   "execution_count": null,
   "metadata": {
    "scrolled": true
   },
   "outputs": [],
   "source": [
    "# Create interactive widgets for parameter input\n",
    "f_c_widget = widgets.FloatText(\n",
    "    value=33.0,\n",
    "    description='f_c (MPa):',\n",
    "    disabled=False,\n",
    "    style={'description_width': 'initial'}\n",
    ")\n",
    "\n",
    "d_max_widget = widgets.FloatText(\n",
    "    value=18.0,\n",
    "    description='d_max (mm):',\n",
    "    disabled=False,\n",
    "    style={'description_width': 'initial'}\n",
    ")\n",
    "\n",
    "rho_widget = widgets.FloatText(\n",
    "    value=2.4E-09,\n",
    "    description='rho:',\n",
    "    disabled=False,\n",
    "    style={'description_width': 'initial'}\n",
    ")\n",
    "\n",
    "nplot_widget = widgets.Dropdown(\n",
    "    options=[\n",
    "        ('1: Maximum of brittle and ductile damage (default)', 1),\n",
    "        ('2: Maximum of brittle and ductile damage, with recovery of brittle damage', 2),\n",
    "        ('3: Brittle damage', 3),\n",
    "        ('4: Ductile damage', 4),\n",
    "        ('5: κ (intersection of cap with shear surface)', 5),\n",
    "        ('6: X₀ (intersection of cap with pressure axis)', 6),\n",
    "        ('7: εᵥᵖ (plastic volume strain)', 7)\n",
    "    ],\n",
    "    value=1,\n",
    "    description='NPLOT:',\n",
    "    disabled=False,\n",
    "    style={'description_width': 'initial'}\n",
    ")\n",
    "\n",
    "iretrc_widget = widgets.Dropdown(\n",
    "    options=[\n",
    "        ('0: Cap does not retract (default)', 0),\n",
    "        ('1: Cap retracts', 1)\n",
    "    ],\n",
    "    value=0,\n",
    "    description='IRETRC:',\n",
    "    disabled=False,\n",
    "    style={'description_width': 'initial'}\n",
    ")\n",
    "\n",
    "output_widget = widgets.Output()\n",
    "curve_output_widget = widgets.Output()\n",
    "\n",
    "def update_output(*args):\n",
    "    with output_widget:\n",
    "        output_widget.clear_output()\n",
    "        \n",
    "        f_c = f_c_widget.value\n",
    "        d_max = d_max_widget.value\n",
    "        rho = rho_widget.value\n",
    "        nplot = nplot_widget.value\n",
    "        iretrc = iretrc_widget.value\n",
    "        \n",
    "        mat_cscm = MatCSCM(\n",
    "            f_c=f_c,\n",
    "            dmax=d_max,\n",
    "            rho=rho,\n",
    "            nplot=nplot,\n",
    "            itretrc=iretrc,\n",
    "            irate='on',\n",
    "            erode='off',\n",
    "            pred='off',\n",
    "            recov='full'\n",
    "        )\n",
    "        \n",
    "        keyword_data = mat_cscm.generate_keyword()\n",
    "        result = keyword_to_text(keyword_data) + mat_cscm.get_ceb_output()\n",
    "        print(result)\n",
    "\n",
    "# Bind update function to widget changes\n",
    "f_c_widget.observe(update_output, names='value')\n",
    "\n",
    "def update_elastic_curve(*args):\n",
    "    with curve_output_widget:\n",
    "        curve_output_widget.clear_output()\n",
    "        f_c = f_c_widget.value\n",
    "        plot_elastic_compression_curve(f_c)\n",
    "\n",
    "f_c_widget.observe(update_elastic_curve, names='value')\n",
    "d_max_widget.observe(update_output, names='value')\n",
    "rho_widget.observe(update_output, names='value')\n",
    "nplot_widget.observe(update_output, names='value')\n",
    "iretrc_widget.observe(update_output, names='value')\n",
    "\n",
    "# Display widgets\n",
    "display(widgets.VBox([\n",
    "    widgets.HTML('<h3>Material Parameters</h3>'),\n",
    "    f_c_widget,\n",
    "    d_max_widget,\n",
    "    rho_widget,\n",
    "    nplot_widget,\n",
    "    iretrc_widget,\n",
    "    widgets.HTML('<h3>Elastic Compression Curve</h3>'),\n",
    "    curve_output_widget,\n",
    "    widgets.HTML('<h3>Result</h3>'),\n",
    "    output_widget\n",
    "]))\n",
    "\n",
    "# Initialize output\n",
    "update_output()\n",
    "update_elastic_curve()"
   ]
  },
  {
   "cell_type": "markdown",
   "metadata": {},
   "source": [
    "# CSCM Compression Curve Visualization\n",
    "\n",
    "This section demonstrates the stress-strain behavior of concrete under uniaxial compression using the CSCM model."
   ]
  },
  {
   "cell_type": "code",
   "execution_count": null,
   "metadata": {},
   "outputs": [],
   "source": [
    "# Import the compression visualization function\n",
    "from MatCSCM import plot_cscm_compression\n",
    "\n",
    "# Create CSCM model with default parameters\n",
    "cscm_model = MatCSCM(f_c=35, dmax=19)\n",
    "\n",
    "# Plot compression curve\n",
    "plot_cscm_compression(cscm_model, max_strain=0.1, num_points=1000)\n",
    "plt.show()"
   ]
  },
  {
   "cell_type": "code",
   "execution_count": null,
   "metadata": {},
   "outputs": [],
   "source": []
  }
 ],
 "metadata": {
  "anaconda-cloud": {},
  "kernelspec": {
   "display_name": "Python 3 (ipykernel)",
   "language": "python",
   "name": "python3"
  },
  "language_info": {
   "codemirror_mode": {
    "name": "ipython",
    "version": 3
   },
   "file_extension": ".py",
   "mimetype": "text/x-python",
   "name": "python",
   "nbconvert_exporter": "python",
   "pygments_lexer": "ipython3",
   "version": "3.13.5"
  }
 },
 "nbformat": 4,
 "nbformat_minor": 4
}
