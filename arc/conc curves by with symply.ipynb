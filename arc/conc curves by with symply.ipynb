{
 "cells": [
  {
   "cell_type": "code",
   "execution_count": 1,
   "metadata": {},
   "outputs": [],
   "source": [
    "from sympy import *\n",
    "init_printing()"
   ]
  },
  {
   "cell_type": "markdown",
   "metadata": {},
   "source": [
    "### 5.1.4 Compressive strength The"
   ]
  },
  {
   "cell_type": "code",
   "execution_count": 3,
   "metadata": {},
   "outputs": [],
   "source": [
    "f_c = symbols('f_c')\n",
    "delta_f = symbols('Delta_f')"
   ]
  },
  {
   "cell_type": "markdown",
   "metadata": {},
   "source": [
    "\n"
   ]
  },
  {
   "cell_type": "code",
   "execution_count": 2,
   "metadata": {},
   "outputs": [],
   "source": [
    "delta_f = 8."
   ]
  },
  {
   "cell_type": "code",
   "execution_count": 4,
   "metadata": {},
   "outputs": [],
   "source": [
    "f_ck = f_c\n",
    "f_cm = f_ck + delta_f"
   ]
  },
  {
   "cell_type": "markdown",
   "metadata": {},
   "source": [
    "Mean compressive strength"
   ]
  },
  {
   "cell_type": "code",
   "execution_count": 6,
   "metadata": {},
   "outputs": [
    {
     "data": {
      "image/png": "[encoded data removed]",
      "text/latex": [
       "$$\\Delta_{f} + f_{c}$$"
      ],
      "text/plain": [
       "Δ_f + f_c"
      ]
     },
     "execution_count": 6,
     "metadata": {},
     "output_type": "execute_result"
    }
   ],
   "source": [
    "f_cm.evalf(subs={f_c: 40})"
   ]
  },
  {
   "cell_type": "markdown",
   "metadata": {
    "collapsed": true
   },
   "source": [
    "Biaxial compression strength, MPa\n"
   ]
  },
  {
   "cell_type": "code",
   "execution_count": 8,
   "metadata": {},
   "outputs": [
    {
     "data": {
      "image/png": "[encoded data removed]",
      "text/latex": [
       "$$f_{bc} = 1.15 f_{c}$$"
      ],
      "text/plain": [
       "f_bc = 1.15⋅f_c"
      ]
     },
     "execution_count": 8,
     "metadata": {},
     "output_type": "execute_result"
    }
   ],
   "source": [
    "f_bc = 1.15*f_ck\n",
    "Eq(S('f_bc'), f_bc) "
   ]
  },
  {
   "cell_type": "markdown",
   "metadata": {
    "collapsed": true
   },
   "source": [
    "# Tensile strength\n",
    "(CEB-FIB Model Code 2010 5.1.5.1)"
   ]
  },
  {
   "cell_type": "markdown",
   "metadata": {},
   "source": [
    "Mean value of tensile strenght"
   ]
  },
  {
   "cell_type": "code",
   "execution_count": 6,
   "metadata": {},
   "outputs": [
    {
     "data": {
      "text/latex": [
       "$$f_{ctm} = \\begin{cases} 0.3 f_{c}^{0.666666666666667} & \\text{for}\\: f_{c} \\leq 50 \\\\2.12 \\log{\\left (0.1 f_{c} + 1.8 \\right )} & \\text{for}\\: f_{c} > 50 \\end{cases}$$"
      ],
      "text/plain": [
       "        ⎧       0.666666666666667              \n",
       "        ⎪0.3⋅f_c                   for f_c ≤ 50\n",
       "f_ctm = ⎨                                      \n",
       "        ⎪2.12⋅log(0.1⋅f_c + 1.8)   for f_c > 50\n",
       "        ⎩                                      "
      ]
     },
     "execution_count": 6,
     "metadata": {},
     "output_type": "execute_result"
    }
   ],
   "source": [
    "f_ctm = Piecewise(\n",
    "    (0.3*pow(f_ck,2./3.),f_ck <= 50),\n",
    "    (2.12*log(1+0.1*(f_ck+delta_f)), f_ck > 50)\n",
    ")\n",
    "Eq(S('f_ctm'), f_ctm)"
   ]
  },
  {
   "cell_type": "markdown",
   "metadata": {},
   "source": [
    "Lower bounds for characteristic tensile strenght"
   ]
  },
  {
   "cell_type": "code",
   "execution_count": 7,
   "metadata": {},
   "outputs": [
    {
     "data": {
      "text/latex": [
       "$$f_{ck min} = 0.7 \\left(\\begin{cases} 0.3 f_{c}^{0.666666666666667} & \\text{for}\\: f_{c} \\leq 50 \\\\2.12 \\log{\\left (0.1 f_{c} + 1.8 \\right )} & \\text{for}\\: f_{c} > 50 \\end{cases}\\right)$$"
      ],
      "text/plain": [
       "               ⎛⎧       0.666666666666667              ⎞\n",
       "               ⎜⎪0.3⋅f_c                   for f_c ≤ 50⎟\n",
       "f_ck_min = 0.7⋅⎜⎨                                      ⎟\n",
       "               ⎜⎪2.12⋅log(0.1⋅f_c + 1.8)   for f_c > 50⎟\n",
       "               ⎝⎩                                      ⎠"
      ]
     },
     "execution_count": 7,
     "metadata": {},
     "output_type": "execute_result"
    }
   ],
   "source": [
    "f_ck_min = 0.7*f_ctm\n",
    "Eq(S('f_ck_min'),f_ck_min)"
   ]
  },
  {
   "cell_type": "markdown",
   "metadata": {
    "collapsed": true
   },
   "source": [
    "Upper bounds for characteristic tensile strenght"
   ]
  },
  {
   "cell_type": "code",
   "execution_count": 8,
   "metadata": {},
   "outputs": [
    {
     "data": {
      "text/latex": [
       "$$f_{ck max} = 1.3 \\left(\\begin{cases} 0.3 f_{c}^{0.666666666666667} & \\text{for}\\: f_{c} \\leq 50 \\\\2.12 \\log{\\left (0.1 f_{c} + 1.8 \\right )} & \\text{for}\\: f_{c} > 50 \\end{cases}\\right)$$"
      ],
      "text/plain": [
       "               ⎛⎧       0.666666666666667              ⎞\n",
       "               ⎜⎪0.3⋅f_c                   for f_c ≤ 50⎟\n",
       "f_ck_max = 1.3⋅⎜⎨                                      ⎟\n",
       "               ⎜⎪2.12⋅log(0.1⋅f_c + 1.8)   for f_c > 50⎟\n",
       "               ⎝⎩                                      ⎠"
      ]
     },
     "execution_count": 8,
     "metadata": {},
     "output_type": "execute_result"
    }
   ],
   "source": [
    "f_ck_max = 1.3*f_ctm\n",
    "Eq(S('f_ck_max'),f_ck_max)"
   ]
  },
  {
   "cell_type": "markdown",
   "metadata": {},
   "source": [
    "Uniaxial tensile strenght\n"
   ]
  },
  {
   "cell_type": "code",
   "execution_count": 9,
   "metadata": {},
   "outputs": [
    {
     "data": {
      "text/latex": [
       "$$f_{t} = \\begin{cases} 0.3 f_{c}^{0.666666666666667} & \\text{for}\\: f_{c} \\leq 50 \\\\2.12 \\log{\\left (0.1 f_{c} + 1.8 \\right )} & \\text{for}\\: f_{c} > 50 \\end{cases}$$"
      ],
      "text/plain": [
       "     ⎧       0.666666666666667              \n",
       "     ⎪0.3⋅f_c                   for f_c ≤ 50\n",
       "fₜ = ⎨                                      \n",
       "     ⎪2.12⋅log(0.1⋅f_c + 1.8)   for f_c > 50\n",
       "     ⎩                                      "
      ]
     },
     "execution_count": 9,
     "metadata": {},
     "output_type": "execute_result"
    }
   ],
   "source": [
    "f_t = f_ctm\n",
    "Eq(S('f_t'),f_ctm)"
   ]
  },
  {
   "cell_type": "markdown",
   "metadata": {},
   "source": [
    "Biaxial tensile strength\n"
   ]
  },
  {
   "cell_type": "code",
   "execution_count": 10,
   "metadata": {},
   "outputs": [
    {
     "data": {
      "text/latex": [
       "$$f_{bt} = \\begin{cases} 0.3 f_{c}^{0.666666666666667} & \\text{for}\\: f_{c} \\leq 50 \\\\2.12 \\log{\\left (0.1 f_{c} + 1.8 \\right )} & \\text{for}\\: f_{c} > 50 \\end{cases}$$"
      ],
      "text/plain": [
       "       ⎧       0.666666666666667              \n",
       "       ⎪0.3⋅f_c                   for f_c ≤ 50\n",
       "f_bt = ⎨                                      \n",
       "       ⎪2.12⋅log(0.1⋅f_c + 1.8)   for f_c > 50\n",
       "       ⎩                                      "
      ]
     },
     "execution_count": 10,
     "metadata": {},
     "output_type": "execute_result"
    }
   ],
   "source": [
    "f_bt = f_t\n",
    "Eq(S('f_bt'),f_t)"
   ]
  },
  {
   "cell_type": "markdown",
   "metadata": {},
   "source": [
    "Triaxial tensile strength\n"
   ]
  },
  {
   "cell_type": "code",
   "execution_count": 11,
   "metadata": {},
   "outputs": [
    {
     "data": {
      "image/png": "[encoded data removed]",
      "text/latex": [
       "$$3.50882128585544$$"
      ],
      "text/plain": [
       "3.50882128585544"
      ]
     },
     "execution_count": 11,
     "metadata": {},
     "output_type": "execute_result"
    }
   ],
   "source": [
    "f_tt = f_t\n",
    "Eq(S('f_tt'),f_t)\n",
    "f_tt.evalf(subs={f_c: 40})"
   ]
  },
  {
   "cell_type": "markdown",
   "metadata": {},
   "source": [
    "# Fracture energy\n",
    "(CEB-FIB Model Code 2010 5.1.5.2)"
   ]
  },
  {
   "cell_type": "markdown",
   "metadata": {},
   "source": [
    "Base value for fracture energy, Nmm/mm^2"
   ]
  },
  {
   "cell_type": "code",
   "execution_count": 12,
   "metadata": {},
   "outputs": [
    {
     "data": {
      "image/png": "[encoded data removed]",
      "text/latex": [
       "$$G_{f0} = 0.0005357 d_{max} + 0.021$$"
      ],
      "text/plain": [
       "G_f0 = 0.0005357⋅dₘₐₓ + 0.021"
      ]
     },
     "execution_count": 12,
     "metadata": {},
     "output_type": "execute_result"
    }
   ],
   "source": [
    "G_f0 = 0.021+5.357E-4*d_max\n",
    "Eq(S('G_f0'), G_f0)"
   ]
  },
  {
   "cell_type": "markdown",
   "metadata": {},
   "source": [
    "### 5.1.7.2 Modulus of elasticity Values"
   ]
  },
  {
   "cell_type": "code",
   "execution_count": 13,
   "metadata": {},
   "outputs": [],
   "source": [
    "E_c, E_ci, E_c0, E_lc, E_lci= symbols('E_c, E_ci, E_c0, E_lc, E_lci')\n",
    "alpha_E, alpha_i = symbols('alpha_E, alpha_i')\n",
    "eta_E = symbols('eta_E')"
   ]
  },
  {
   "cell_type": "code",
   "execution_count": 14,
   "metadata": {},
   "outputs": [],
   "source": [
    "alpha_E = 1.0"
   ]
  },
  {
   "cell_type": "code",
   "execution_count": 15,
   "metadata": {},
   "outputs": [],
   "source": [
    "E_c0 = 21.5E+3"
   ]
  },
  {
   "cell_type": "code",
   "execution_count": 16,
   "metadata": {},
   "outputs": [
    {
     "data": {
      "image/png": "[encoded data removed]",
      "text/latex": [
       "$$E_{lci} = E_{ci} \\eta_{E}$$"
      ],
      "text/plain": [
       "E_lci = E_ci⋅η_E"
      ]
     },
     "execution_count": 16,
     "metadata": {},
     "output_type": "execute_result"
    }
   ],
   "source": [
    "E_lci = eta_E*E_ci\n",
    "Eq(S('E_lci'),E_lci)"
   ]
  },
  {
   "cell_type": "code",
   "execution_count": 17,
   "metadata": {},
   "outputs": [
    {
     "data": {
      "image/png": "[encoded data removed]",
      "text/latex": [
       "$$\\eta_{E} = \\frac{\\rho^{2}}{4840000}$$"
      ],
      "text/plain": [
       "          2  \n",
       "         ρ   \n",
       "η_E = ───────\n",
       "      4840000"
      ]
     },
     "execution_count": 17,
     "metadata": {},
     "output_type": "execute_result"
    }
   ],
   "source": [
    "eta_E = pow(rho/2200,2)\n",
    "Eq(S('eta_E'),eta_E)"
   ]
  },
  {
   "cell_type": "code",
   "execution_count": 18,
   "metadata": {},
   "outputs": [
    {
     "data": {
      "image/png": "[encoded data removed]",
      "text/latex": [
       "$$E_{ci} = 19958.831984535 f_{c}^{0.333333333333333}$$"
      ],
      "text/plain": [
       "                          0.333333333333333\n",
       "E_ci = 19958.831984535⋅f_c                 "
      ]
     },
     "execution_count": 18,
     "metadata": {},
     "output_type": "execute_result"
    }
   ],
   "source": [
    "E_ci=E_c0*alpha_E*pow((f_ck*delta_f)/10,1/3)\n",
    "Eq(S('E_ci'), E_ci)"
   ]
  },
  {
   "cell_type": "code",
   "execution_count": 19,
   "metadata": {},
   "outputs": [
    {
     "data": {
      "image/png": "[encoded data removed]",
      "text/latex": [
       "$$E_{c} = 19958.831984535 \\alpha_{i} f_{c}^{0.333333333333333}$$"
      ],
      "text/plain": [
       "                            0.333333333333333\n",
       "E_c = 19958.831984535⋅αᵢ⋅f_c                 "
      ]
     },
     "execution_count": 19,
     "metadata": {},
     "output_type": "execute_result"
    }
   ],
   "source": [
    "E_c = alpha_i*E_ci\n",
    "Eq(S('E_c'),E_c)"
   ]
  },
  {
   "cell_type": "code",
   "execution_count": 20,
   "metadata": {},
   "outputs": [
    {
     "data": {
      "text/latex": [
       "$$\\alpha_{i} = \\begin{cases} 0.00227272727272727 f_{c} + 0.818181818181818 & \\text{for}\\: 0.00227272727272727 f_{c} + 0.818181818181818 \\leq 1 \\\\1 & \\text{for}\\: 0.00227272727272727 f_{c} + 0.818181818181818 > 1 \\end{cases}$$"
      ],
      "text/plain": [
       "     ⎧0.00227272727272727⋅f_c + 0.818181818181818  for 0.00227272727272727⋅f_c\n",
       "αᵢ = ⎨                                                                        \n",
       "     ⎩                     1                       for 0.00227272727272727⋅f_c\n",
       "\n",
       " + 0.818181818181818 ≤ 1\n",
       "                        \n",
       " + 0.818181818181818 > 1"
      ]
     },
     "execution_count": 20,
     "metadata": {},
     "output_type": "execute_result"
    }
   ],
   "source": [
    "alpha_i = 0.8+0.2*f_cm/88\n",
    "alpha_i = Piecewise(\n",
    "    (alpha_i, alpha_i <=1),\n",
    "    (1, alpha_i > 1)\n",
    ")\n",
    "Eq(S('alpha_i'),alpha_i)"
   ]
  },
  {
   "cell_type": "code",
   "execution_count": 21,
   "metadata": {},
   "outputs": [
    {
     "data": {
      "image/png": "[encoded data removed]",
      "text/latex": [
       "$$E_{lc} = 0.00412372561663945 \\alpha_{i} f_{c}^{0.333333333333333} \\rho^{2}$$"
      ],
      "text/plain": [
       "                                 0.333333333333333  2\n",
       "E_lc = 0.00412372561663945⋅αᵢ⋅f_c                 ⋅ρ "
      ]
     },
     "execution_count": 21,
     "metadata": {},
     "output_type": "execute_result"
    }
   ],
   "source": [
    "E_lc = eta_E*E_c\n",
    "Eq(S('E_lc'),E_lc)"
   ]
  },
  {
   "cell_type": "markdown",
   "metadata": {},
   "source": [
    "#### 5.1.7.3 Poisson’s ratio For"
   ]
  },
  {
   "cell_type": "code",
   "execution_count": 22,
   "metadata": {},
   "outputs": [],
   "source": [
    "nu_c = symbols('nu_c')"
   ]
  },
  {
   "cell_type": "code",
   "execution_count": 23,
   "metadata": {},
   "outputs": [],
   "source": [
    "nu_c = 0.2"
   ]
  },
  {
   "cell_type": "code",
   "execution_count": 24,
   "metadata": {},
   "outputs": [
    {
     "data": {
      "image/png": "[encoded data removed]",
      "text/latex": [
       "$$\\nu_{c} = 0.2$$"
      ],
      "text/plain": [
       "ν_c = 0.2"
      ]
     },
     "execution_count": 24,
     "metadata": {},
     "output_type": "execute_result"
    }
   ],
   "source": [
    "Eq(S('nu_c'), nu_c)"
   ]
  },
  {
   "cell_type": "markdown",
   "metadata": {},
   "source": [
    "### 5.1.8 Stress-strain relations for short-term loading"
   ]
  },
  {
   "cell_type": "markdown",
   "metadata": {},
   "source": [
    "#### 5.1.8.1 Compression"
   ]
  },
  {
   "cell_type": "code",
   "execution_count": 45,
   "metadata": {},
   "outputs": [
    {
     "data": {
      "text/latex": [
       "$$\\epsilon_{c1} = \\begin{cases} 0.7 \\left(f_{c} + 8.0\\right)^{0.31} & \\text{for}\\: 0.7 \\left(f_{c} + 8.0\\right)^{0.31} \\leq 2.8 \\\\2.8 & \\text{for}\\: 0.7 \\left(f_{c} + 8.0\\right)^{0.31} > 2.8 \\end{cases}$$"
      ],
      "text/plain": [
       "       ⎧               0.31                     0.31      \n",
       "       ⎪0.7⋅(f_c + 8.0)      for 0.7⋅(f_c + 8.0)     ≤ 2.8\n",
       "ε_c1 = ⎨                                                  \n",
       "       ⎪                                        0.31      \n",
       "       ⎩        2.8          for 0.7⋅(f_c + 8.0)     > 2.8"
      ]
     },
     "execution_count": 45,
     "metadata": {},
     "output_type": "execute_result"
    }
   ],
   "source": [
    "# Table 3.1 in Eurocode2 \n",
    "epsilon_c1 = 0.7*pow(f_cm,0.31)\n",
    "epsilon_c1 = Piecewise(  \n",
    "    (epsilon_c1,epsilon_c1 <= 2.8),\n",
    "    (2.8, epsilon_c1 > 2.8)\n",
    ")\n",
    "\n",
    "Eq(S('epsilon_c1'),epsilon_c1)\n"
   ]
  },
  {
   "cell_type": "code",
   "execution_count": 46,
   "metadata": {},
   "outputs": [],
   "source": [
    "sigma_c = symbols('sigma_c')\n",
    "epsilon_c, epsilon_c1  = symbols('epsilon_c, epsilon_c1')\n",
    "E_ci, E_c1 = symbols('E_ci, E_c1')\n",
    "k, eta = symbols('k, eta')"
   ]
  },
  {
   "cell_type": "code",
   "execution_count": 47,
   "metadata": {},
   "outputs": [
    {
     "data": {
      "image/png": "[encoded data removed]",
      "text/latex": [
       "$$\\eta = \\frac{\\epsilon_{c}}{\\epsilon_{c1}}$$"
      ],
      "text/plain": [
       "    ε_c \n",
       "η = ────\n",
       "    ε_c1"
      ]
     },
     "execution_count": 47,
     "metadata": {},
     "output_type": "execute_result"
    }
   ],
   "source": [
    "eta = epsilon_c/epsilon_c1\n",
    "Eq(S('eta'),eta)"
   ]
  },
  {
   "cell_type": "code",
   "execution_count": 27,
   "metadata": {},
   "outputs": [
    {
     "data": {
      "image/png": "[encoded data removed]",
      "text/latex": [
       "$$k = \\frac{E_{ci}}{E_{c1}}$$"
      ],
      "text/plain": [
       "    E_ci\n",
       "k = ────\n",
       "    E_c1"
      ]
     },
     "execution_count": 27,
     "metadata": {},
     "output_type": "execute_result"
    }
   ],
   "source": [
    "k = E_ci/E_c1\n",
    "Eq(S('k'),k)"
   ]
  },
  {
   "cell_type": "code",
   "execution_count": 29,
   "metadata": {},
   "outputs": [
    {
     "data": {
      "text/latex": [
       "$$E_{c1} = \\frac{f_{c} + 8.0}{\\left|{\\begin{cases} 0.7 \\left(f_{c} + 8.0\\right)^{0.31} & \\text{for}\\: 0.7 \\left(f_{c} + 8.0\\right)^{0.31} \\leq 2.8 \\\\2.8 & \\text{for}\\: 0.7 \\left(f_{c} + 8.0\\right)^{0.31} > 2.8 \\end{cases}}\\right|}$$"
      ],
      "text/plain": [
       "                             f_c + 8.0                      \n",
       "E_c1 = ─────────────────────────────────────────────────────\n",
       "       │⎧               0.31                     0.31      │\n",
       "       │⎪0.7⋅(f_c + 8.0)      for 0.7⋅(f_c + 8.0)     ≤ 2.8│\n",
       "       │⎨                                                  │\n",
       "       │⎪                                        0.31      │\n",
       "       │⎩        2.8          for 0.7⋅(f_c + 8.0)     > 2.8│"
      ]
     },
     "execution_count": 29,
     "metadata": {},
     "output_type": "execute_result"
    }
   ],
   "source": [
    "E_c1=f_cm/abs(epsilon_c1)\n",
    "Eq(S('E_c1'),E_c1)"
   ]
  },
  {
   "cell_type": "code",
   "execution_count": 30,
   "metadata": {},
   "outputs": [
    {
     "data": {
      "image/png": "[encoded data removed]",
      "text/latex": [
       "$$\\sigma_{c}$$"
      ],
      "text/plain": [
       "σ_c"
      ]
     },
     "execution_count": 30,
     "metadata": {},
     "output_type": "execute_result"
    }
   ],
   "source": [
    "sigma_c"
   ]
  },
  {
   "cell_type": "code",
   "execution_count": 31,
   "metadata": {},
   "outputs": [
    {
     "data": {
      "image/png": "[encoded data removed]",
      "text/latex": [
       "$$\\sigma_{c} = \\frac{\\left(- f_{c} - 8.0\\right) \\left(- \\frac{\\epsilon_{c}^{2}}{\\epsilon_{c1}^{2}} + \\frac{E_{ci} \\epsilon_{c}}{E_{c1} \\epsilon_{c1}}\\right)}{\\frac{\\epsilon_{c}}{\\epsilon_{c1}} \\left(-2 + \\frac{E_{ci}}{E_{c1}}\\right) + 1}$$"
      ],
      "text/plain": [
       "                   ⎛      2            ⎞\n",
       "                   ⎜   ε_c     E_ci⋅ε_c⎟\n",
       "      (-f_c - 8.0)⋅⎜- ───── + ─────────⎟\n",
       "                   ⎜      2   E_c1⋅ε_c1⎟\n",
       "                   ⎝  ε_c1             ⎠\n",
       "σ_c = ──────────────────────────────────\n",
       "                 ⎛     E_ci⎞            \n",
       "             ε_c⋅⎜-2 + ────⎟            \n",
       "                 ⎝     E_c1⎠            \n",
       "             ─────────────── + 1        \n",
       "                   ε_c1                 "
      ]
     },
     "execution_count": 31,
     "metadata": {},
     "output_type": "execute_result"
    }
   ],
   "source": [
    "sigma_c = -f_cm*(k*eta-eta**2)/(1+(k-2)*eta)\n",
    "Eq(S('sigma_c'),sigma_c)"
   ]
  },
  {
   "cell_type": "code",
   "execution_count": 32,
   "metadata": {},
   "outputs": [
    {
     "data": {
      "text/latex": [
       "$$\\frac{f_{c} + 8.0}{\\left|{\\begin{cases} 0.7 \\left(f_{c} + 8.0\\right)^{0.31} & \\text{for}\\: 0.7 \\left(f_{c} + 8.0\\right)^{0.31} \\leq 2.8 \\\\2.8 & \\text{for}\\: 0.7 \\left(f_{c} + 8.0\\right)^{0.31} > 2.8 \\end{cases}}\\right|}$$"
      ],
      "text/plain": [
       "                      f_c + 8.0                      \n",
       "─────────────────────────────────────────────────────\n",
       "│⎧               0.31                     0.31      │\n",
       "│⎪0.7⋅(f_c + 8.0)      for 0.7⋅(f_c + 8.0)     ≤ 2.8│\n",
       "│⎨                                                  │\n",
       "│⎪                                        0.31      │\n",
       "│⎩        2.8          for 0.7⋅(f_c + 8.0)     > 2.8│"
      ]
     },
     "execution_count": 32,
     "metadata": {},
     "output_type": "execute_result"
    }
   ],
   "source": [
    "from sympy.plotting import plot\n",
    "f_c = 40.0\n",
    "\n",
    "E_c1\n"
   ]
  },
  {
   "cell_type": "code",
   "execution_count": 33,
   "metadata": {},
   "outputs": [
    {
     "data": {
      "image/png": "[encoded data removed]",
      "text/latex": [
       "$$\\frac{\\left(- f_{c} - 8.0\\right) \\left(- \\frac{\\epsilon_{c}^{2}}{\\epsilon_{c1}^{2}} + \\frac{E_{ci} \\epsilon_{c}}{E_{c1} \\epsilon_{c1}}\\right)}{\\frac{\\epsilon_{c}}{\\epsilon_{c1}} \\left(-2.0 + \\frac{E_{ci}}{E_{c1}}\\right) + 1.0}$$"
      ],
      "text/plain": [
       "             ⎛      2            ⎞\n",
       "             ⎜   ε_c     E_ci⋅ε_c⎟\n",
       "(-f_c - 8.0)⋅⎜- ───── + ─────────⎟\n",
       "             ⎜      2   E_c1⋅ε_c1⎟\n",
       "             ⎝  ε_c1             ⎠\n",
       "──────────────────────────────────\n",
       "         ⎛       E_ci⎞            \n",
       "     ε_c⋅⎜-2.0 + ────⎟            \n",
       "         ⎝       E_c1⎠            \n",
       "     ───────────────── + 1.0      \n",
       "            ε_c1                  "
      ]
     },
     "execution_count": 33,
     "metadata": {},
     "output_type": "execute_result"
    }
   ],
   "source": [
    "sigma_c.evalf(subs={f_c: 40})"
   ]
  },
  {
   "cell_type": "code",
   "execution_count": null,
   "metadata": {},
   "outputs": [],
   "source": []
  },
  {
   "cell_type": "code",
   "execution_count": null,
   "metadata": {},
   "outputs": [],
   "source": []
  },
  {
   "cell_type": "code",
   "execution_count": null,
   "metadata": {},
   "outputs": [],
   "source": [
    "\n"
   ]
  },
  {
   "cell_type": "code",
   "execution_count": null,
   "metadata": {},
   "outputs": [],
   "source": [
    "\n"
   ]
  },
  {
   "cell_type": "code",
   "execution_count": null,
   "metadata": {},
   "outputs": [],
   "source": [
    "\n"
   ]
  },
  {
   "cell_type": "code",
   "execution_count": null,
   "metadata": {},
   "outputs": [],
   "source": []
  },
  {
   "cell_type": "code",
   "execution_count": null,
   "metadata": {},
   "outputs": [],
   "source": []
  },
  {
   "cell_type": "code",
   "execution_count": 34,
   "metadata": {},
   "outputs": [],
   "source": []
  },
  {
   "cell_type": "code",
   "execution_count": 35,
   "metadata": {},
   "outputs": [],
   "source": []
  },
  {
   "cell_type": "code",
   "execution_count": 36,
   "metadata": {},
   "outputs": [
    {
     "data": {
      "image/png": "[encoded data removed]",
      "text/latex": [
       "$$a + b$$"
      ],
      "text/plain": [
       "a + b"
      ]
     },
     "execution_count": 36,
     "metadata": {},
     "output_type": "execute_result"
    }
   ],
   "source": []
  },
  {
   "cell_type": "code",
   "execution_count": 37,
   "metadata": {},
   "outputs": [],
   "source": []
  },
  {
   "cell_type": "code",
   "execution_count": 38,
   "metadata": {},
   "outputs": [
    {
     "data": {
      "image/png": "[encoded data removed]",
      "text/latex": [
       "$$c^{2}$$"
      ],
      "text/plain": [
       " 2\n",
       "c "
      ]
     },
     "execution_count": 38,
     "metadata": {},
     "output_type": "execute_result"
    }
   ],
   "source": []
  },
  {
   "cell_type": "code",
   "execution_count": 39,
   "metadata": {},
   "outputs": [],
   "source": []
  },
  {
   "cell_type": "code",
   "execution_count": 40,
   "metadata": {},
   "outputs": [
    {
     "data": {
      "image/png": "[encoded data removed]",
      "text/latex": [
       "$$c$$"
      ],
      "text/plain": [
       "c"
      ]
     },
     "execution_count": 40,
     "metadata": {},
     "output_type": "execute_result"
    }
   ],
   "source": []
  },
  {
   "cell_type": "code",
   "execution_count": 41,
   "metadata": {},
   "outputs": [
    {
     "data": {
      "image/png": "[encoded data removed]",
      "text/latex": [
       "$$a + b$$"
      ],
      "text/plain": [
       "a + b"
      ]
     },
     "execution_count": 41,
     "metadata": {},
     "output_type": "execute_result"
    }
   ],
   "source": [
    "\n"
   ]
  },
  {
   "cell_type": "code",
   "execution_count": 42,
   "metadata": {},
   "outputs": [
    {
     "data": {
      "image/png": "[encoded data removed]",
      "text/latex": [
       "$$a + b$$"
      ],
      "text/plain": [
       "a + b"
      ]
     },
     "execution_count": 42,
     "metadata": {},
     "output_type": "execute_result"
    }
   ],
   "source": []
  },
  {
   "cell_type": "code",
   "execution_count": 43,
   "metadata": {},
   "outputs": [
    {
     "data": {
      "image/png": "[encoded data removed]",
      "text/latex": [
       "$$a + b$$"
      ],
      "text/plain": [
       "a + b"
      ]
     },
     "execution_count": 43,
     "metadata": {},
     "output_type": "execute_result"
    }
   ],
   "source": [
    "\n"
   ]
  },
  {
   "cell_type": "code",
   "execution_count": 44,
   "metadata": {},
   "outputs": [
    {
     "data": {
      "image/png": "[encoded data removed]",
      "text/latex": [
       "$$a + b$$"
      ],
      "text/plain": [
       "a + b"
      ]
     },
     "execution_count": 44,
     "metadata": {},
     "output_type": "execute_result"
    }
   ],
   "source": []
  },
  {
   "cell_type": "code",
   "execution_count": null,
   "metadata": {},
   "outputs": [],
   "source": []
  },
  {
   "cell_type": "code",
   "execution_count": null,
   "metadata": {},
   "outputs": [],
   "source": []
  },
  {
   "cell_type": "code",
   "execution_count": null,
   "metadata": {},
   "outputs": [],
   "source": []
  }
 ],
 "metadata": {
  "kernelspec": {
   "display_name": "Python 3",
   "language": "python",
   "name": "python3"
  },
  "language_info": {
   "codemirror_mode": {
    "name": "ipython",
    "version": 3
   },
   "file_extension": ".py",
   "mimetype": "text/x-python",
   "name": "python",
   "nbconvert_exporter": "python",
   "pygments_lexer": "ipython3",
   "version": "3.6.5"
  }
 },
 "nbformat": 4,
 "nbformat_minor": 2
}
