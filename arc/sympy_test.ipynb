{
 "cells": [
  {
   "cell_type": "code",
   "execution_count": 3,
   "metadata": {
    "collapsed": false,
    "deletable": true,
    "editable": true
   },
   "outputs": [],
   "source": [
    "from sympy import *\n",
    "import matplotlib.pyplot as plt"
   ]
  },
  {
   "cell_type": "code",
   "execution_count": 4,
   "metadata": {
    "collapsed": false,
    "deletable": true,
    "editable": true
   },
   "outputs": [],
   "source": [
    "def P(fc, Ap,Bp,Cp):\n",
    "    return Ap*pow(fc,2)+Bp*fc+Cp"
   ]
  },
  {
   "cell_type": "code",
   "execution_count": 5,
   "metadata": {
    "collapsed": false,
    "deletable": true,
    "editable": true
   },
   "outputs": [
    {
     "ename": "TypeError",
     "evalue": "cannot determine truth value of Relational",
     "output_type": "error",
     "traceback": [
      "\u001b[0;31m---------------------------------------------------------------------------\u001b[0m",
      "\u001b[0;31mTypeError\u001b[0m                                 Traceback (most recent call last)",
      "\u001b[0;32m<ipython-input-5-44b246beba61>\u001b[0m in \u001b[0;36m<module>\u001b[0;34m()\u001b[0m\n\u001b[1;32m     92\u001b[0m \u001b[0;34m\u001b[0m\u001b[0m\n\u001b[1;32m     93\u001b[0m \u001b[0mfc\u001b[0m \u001b[0;34m=\u001b[0m \u001b[0msymbols\u001b[0m\u001b[0;34m(\u001b[0m\u001b[0;34m'fc'\u001b[0m\u001b[0;34m)\u001b[0m\u001b[0;34m\u001b[0m\u001b[0m\n\u001b[0;32m---> 94\u001b[0;31m \u001b[0mCEBFIB\u001b[0m\u001b[0;34m(\u001b[0m\u001b[0mfc\u001b[0m\u001b[0;34m,\u001b[0m\u001b[0;36m2.4e-9\u001b[0m\u001b[0;34m,\u001b[0m\u001b[0;36m10\u001b[0m\u001b[0;34m)\u001b[0m\u001b[0;34m\u001b[0m\u001b[0m\n\u001b[0m",
      "\u001b[0;32m<ipython-input-5-44b246beba61>\u001b[0m in \u001b[0;36mCEBFIB\u001b[0;34m(fc, dmax, rho)\u001b[0m\n\u001b[1;32m     15\u001b[0m     \u001b[0;31m# (CEB-FIB Model Code 2010 5.1.5.1)\u001b[0m\u001b[0;34m\u001b[0m\u001b[0;34m\u001b[0m\u001b[0m\n\u001b[1;32m     16\u001b[0m     \u001b[0;31m# mean value of tensile strenght for fck <= C50\u001b[0m\u001b[0;34m\u001b[0m\u001b[0;34m\u001b[0m\u001b[0m\n\u001b[0;32m---> 17\u001b[0;31m     \u001b[0;32mif\u001b[0m \u001b[0mfck\u001b[0m \u001b[0;34m<=\u001b[0m \u001b[0;36m50\u001b[0m\u001b[0;34m:\u001b[0m\u001b[0;34m\u001b[0m\u001b[0m\n\u001b[0m\u001b[1;32m     18\u001b[0m         \u001b[0mfctm\u001b[0m \u001b[0;34m=\u001b[0m \u001b[0;36m0.3\u001b[0m\u001b[0;34m*\u001b[0m\u001b[0mpow\u001b[0m\u001b[0;34m(\u001b[0m\u001b[0mfck\u001b[0m\u001b[0;34m,\u001b[0m\u001b[0;36m2.\u001b[0m\u001b[0;34m/\u001b[0m\u001b[0;36m3.\u001b[0m\u001b[0;34m)\u001b[0m\u001b[0;34m\u001b[0m\u001b[0m\n\u001b[1;32m     19\u001b[0m     \u001b[0;31m# mean value of tensile strenght for fck >  C50\u001b[0m\u001b[0;34m\u001b[0m\u001b[0;34m\u001b[0m\u001b[0m\n",
      "\u001b[0;32m/usr/local/lib/python2.7/site-packages/sympy/core/relational.pyc\u001b[0m in \u001b[0;36m__nonzero__\u001b[0;34m(self)\u001b[0m\n\u001b[1;32m    193\u001b[0m \u001b[0;34m\u001b[0m\u001b[0m\n\u001b[1;32m    194\u001b[0m     \u001b[0;32mdef\u001b[0m \u001b[0m__nonzero__\u001b[0m\u001b[0;34m(\u001b[0m\u001b[0mself\u001b[0m\u001b[0;34m)\u001b[0m\u001b[0;34m:\u001b[0m\u001b[0;34m\u001b[0m\u001b[0m\n\u001b[0;32m--> 195\u001b[0;31m         \u001b[0;32mraise\u001b[0m \u001b[0mTypeError\u001b[0m\u001b[0;34m(\u001b[0m\u001b[0;34m\"cannot determine truth value of Relational\"\u001b[0m\u001b[0;34m)\u001b[0m\u001b[0;34m\u001b[0m\u001b[0m\n\u001b[0m\u001b[1;32m    196\u001b[0m \u001b[0;34m\u001b[0m\u001b[0m\n\u001b[1;32m    197\u001b[0m     \u001b[0m__bool__\u001b[0m \u001b[0;34m=\u001b[0m \u001b[0m__nonzero__\u001b[0m\u001b[0;34m\u001b[0m\u001b[0m\n",
      "\u001b[0;31mTypeError\u001b[0m: cannot determine truth value of Relational"
     ]
    }
   ],
   "source": [
    "def CEBFIB(fc, dmax, rho = 2.4E-9):\n",
    "    ################################################\n",
    "    # Compressive strength\n",
    "    # (CEB-FIB Model Code 2010 5.1.4)\n",
    "    # specific characteristic compressive strength \n",
    "    fck     = fc\n",
    "    # MPa\n",
    "    delta_f = 8.\n",
    "    # mean compressive strength\n",
    "    fcm     = fck + delta_f \n",
    "    # biaxial compression strength, MPa\n",
    "    fbc     = 1.15*fck\n",
    "    ################################################\n",
    "    # Tensile strength\n",
    "    # (CEB-FIB Model Code 2010 5.1.5.1)\n",
    "    # mean value of tensile strenght for fck <= C50\n",
    "    if fck <= 50:\n",
    "        fctm = 0.3*pow(fck,2./3.)\n",
    "    # mean value of tensile strenght for fck >  C50\n",
    "    else:\n",
    "        fctm = 2.12*np.log(1+0.1*(fck+delta_f))\n",
    "    # lower bounds for characteristic tensile strenght\n",
    "    fck_min = 0.7*fctm\n",
    "    # upper bounds for characteristic tensile strenght\n",
    "    fck_max = 1.3*fctm\n",
    "    # uniaxial tensile strenght\n",
    "    ft      = fctm\n",
    "    # biaxial tensile strength\n",
    "    fbt     = ft\n",
    "    # triaxial tensile strength\n",
    "    ftt     = ft\n",
    "    ################################################\n",
    "    # Fracture energy\n",
    "    # (CEB-FIB Model Code 2010 5.1.5.2)             \n",
    "    # Gf = 73*pow(fcm,0.18) # fracture energy\n",
    "    # MPa\n",
    "    fcm0    = 10.0                                  \n",
    "    # Base value for fracture energy, Nmm/mm^2\n",
    "    Gf0     = 0.021+5.357E-4*dmax\n",
    "    # Fracture energy, Nmm/mm^2\n",
    "    Gft      = Gf0*pow(fcm/fcm0, 0.7)\n",
    "    Gfc      = Gft*100\n",
    "    Gfs      = Gft\n",
    "    ################################################\n",
    "    # Elastic poperties \n",
    "    # (CEB-FIB Model Code 2010 5.1.7.2)\n",
    "    # MPa\n",
    "    Ec0     = 2.15E+4\n",
    "    # aggregate qualititive values\n",
    "    alpha_E = 1.0\n",
    "    # Elacticity modulud at 28 day\n",
    "    Eci = Ec0*alpha_E*pow((fck+delta_f)/fcm0,1./3.) \n",
    "    alpha_i = 0.8+0.2*fcm/88\n",
    "    if alpha_i > 1.0: \n",
    "        alpha_i = 1.0\n",
    "    # Reduced elasticity modulus \n",
    "    Ec  = alpha_i*Eci                               \n",
    "    E   = Eci\n",
    "    # Poisson ratio for stresses -0.6*fck < sigma <0.8*fctk\n",
    "    nu  = 0.15                                       \n",
    "    # Shear modulus\n",
    "    G   = E/(2.*(1+nu))                             \n",
    "    # Bulk modulus\n",
    "    K   = E/(3.*(1-2.*nu))                          \n",
    "    ################################################\n",
    "    # MAT_CONCRETE_DAMAGE_PLASTIC_MODEL stecial data\n",
    "    # Tensile softening branch for exponential tensile damage formulation\n",
    "    # WF  = Gf/ft\n",
    "    # ksi = ft*(fbc**2-fc**2)/(fbc*(fc**2-ft**2))\n",
    "    # ECC = (1+ksi)/(1-ksi)\n",
    "    ################################################\n",
    "    # Record data from CEB-FIB estimations\n",
    "    data = OD()\n",
    "    data['fc']   = fc  \n",
    "    data['fcm']  = fcm \n",
    "    data['fcm']  = fcm   \n",
    "    data['ft']   = ft \n",
    "    data['ftt']  = ftt     \n",
    "    data['fbc']  = fbc \n",
    "    data['Gfc']  = Gfc\n",
    "    data['Gft']  = Gft     \n",
    "    data['Gfs']  = Gfs     \n",
    "    data['dmax'] = dmax\n",
    "    data['rho']  = rho \n",
    "    data['nu']   = nu     \n",
    "    data['E']    = E       \n",
    "    data['G']    = G       \n",
    "    data['K']    = K \n",
    "    #data['WF']   = WF\n",
    "    #data['ECC']  = ECC    \n",
    "    return data\n",
    "\n",
    "fc = symbols('fc')\n",
    "CEBFIB(fc,2.4e-9,10)"
   ]
  },
  {
   "cell_type": "code",
   "execution_count": 4,
   "metadata": {
    "collapsed": false,
    "deletable": true,
    "editable": true
   },
   "outputs": [],
   "source": [
    "alpha,  beta,  lamda,  theta  = symbols('alpha beta lamda theta')\n",
    "alpha1, beta1, lamda1, theta1 = symbols('alpha1 beta1 lamda1 theta1')\n",
    "alpha2, beta2, lamda2, theta2 = symbols('alpha2 beta2 lamda2 theta2')\n",
    "X0, R, W, D1, D2 = symbols('X0 R W D1 D2')\n",
    "fc, J = symbols('fc J')"
   ]
  },
  {
   "cell_type": "code",
   "execution_count": 5,
   "metadata": {
    "collapsed": false,
    "deletable": true,
    "editable": true
   },
   "outputs": [],
   "source": [
    "rev = 1\n",
    "if rev==1:\n",
    "    alpha = P(fc, -0.003, 0.3169747, 7.7047)\n",
    "    lamda = P(fc, 0, 0, 10.5)\n",
    "    beta  = P(fc, 0, 0, 1.929E-02)\n",
    "    theta = P(fc, 1.3216E-05, 2.3548E-03, 0.2140058)\n",
    "    \n",
    "    alpha1 = P(fc, 0, 0, 0.74735)\n",
    "    lamda1 = P(fc, 0, 0, 0.17)\n",
    "    beta1  = P(fc, -1.9972e-05, 2.2655e-04, 8.1748e-02)\n",
    "    theta1 = P(fc, -4.0856E-07, -1.2132E-06, 1.5593E-03)\n",
    "  \n",
    "    alpha2 = P(fc, 0, 0, 0.66)\n",
    "    lamda2 = P(fc, 0, 0, 0.16)\n",
    "    beta2 =  P(fc, -1.9972e-05, 2.2655e-04, 8.2748e-02)\n",
    "    theta2 = P(fc, -4.8697e-07, -1.8883e-06, 1.8822e-03)\n",
    "    \n",
    "    X0     = P(fc, 8.769178e-03, -7.3302306e-02, 84.85)\n",
    "    R      = 5\n",
    "    W      = 0.05\n",
    "    D1     = 2.5E-4\n",
    "    D2     = 3.49E-7\n",
    "    \n",
    "    B      = 100\n",
    "    D      = 0.1\n",
    "    \n",
    "elif rev==2:\n",
    "    alpha = 13.9846*exp(fc/68.8756)-13.8981\n",
    "    lamda = 3.6657*exp(fc/39.9363)-4.7092\n",
    "    beta  = 18.17791*pow(fc,-1.7163)\n",
    "    theta = 0.3533-3.3294E-4*fc-3.8182E-6*pow(fc,2)\n",
    "    \n",
    "    alpha1 = 0.82\n",
    "    lamda1 = 0.26\n",
    "    beta1  = 0.285*pow(fc,-0.94843)\n",
    "    theta1 = 0\n",
    "    \n",
    "    alpha2 = 0.76\n",
    "    lamda2 = 0.26\n",
    "    beta2  = 0.285*pow(fc,-0.94843)\n",
    "    theta2 = 0\n",
    "        \n",
    "    X0     = 17.087+1.892*fc\n",
    "    R      = 4.45994*exp(-fc/11.51679)+1.95358\n",
    "    W      = 0.065\n",
    "    D1     = 6.11e-4\n",
    "    D2     = 2.225E-6\n",
    "\n",
    "    B      = 100\n",
    "    D      = 0.1"
   ]
  },
  {
   "cell_type": "code",
   "execution_count": 6,
   "metadata": {
    "collapsed": false,
    "deletable": true,
    "editable": true
   },
   "outputs": [
    {
     "data": {
      "text/plain": [
       "0.008769178*fc**2 - 0.073302306*fc + 84.85"
      ]
     },
     "execution_count": 6,
     "metadata": {},
     "output_type": "execute_result"
    }
   ],
   "source": [
    "TXC = alpha-lamda*exp(-beta*J)+theta*J\n",
    "\n",
    "Q1 = alpha1-lamda1*exp(-beta1*J)+theta1*J\n",
    "TOR = Q1*TXC\n",
    "\n",
    "Q2 = alpha2-lamda2*exp(-beta2*J)+theta2*J\n",
    "TXE = Q2*TXC\n",
    "X0"
   ]
  },
  {
   "cell_type": "code",
   "execution_count": 49,
   "metadata": {
    "collapsed": false,
    "deletable": true,
    "editable": true
   },
   "outputs": [
    {
     "name": "stdout",
     "output_type": "stream",
     "text": [
      "15.5836880000000\n"
     ]
    },
    {
     "data": {
      "text/plain": [
       "J*(-4.0856e-7*fc**2 - 1.2132e-6*fc + 0.0015593) - 0.17*exp(J*(1.9972e-5*fc**2 - 0.00022655*fc - 0.081748)) + 0.74735"
      ]
     },
     "execution_count": 49,
     "metadata": {},
     "output_type": "execute_result"
    }
   ],
   "source": [
    "print alpha.evalf(subs={fc:40})\n",
    "Q1.evalf(subs={fc:40})"
   ]
  }
 ],
 "metadata": {
  "kernelspec": {
   "display_name": "Python 2",
   "language": "python",
   "name": "python2"
  },
  "language_info": {
   "codemirror_mode": {
    "name": "ipython",
    "version": 2
   },
   "file_extension": ".py",
   "mimetype": "text/x-python",
   "name": "python",
   "nbconvert_exporter": "python",
   "pygments_lexer": "ipython2",
   "version": "2.7.13"
  }
 },
 "nbformat": 4,
 "nbformat_minor": 2
}
