{
 "cells": [
  {
   "cell_type": "markdown",
   "metadata": {
    "deletable": true,
    "editable": true
   },
   "source": [
    "Compressive strength (CEB-FIB Model Code 2010 5.1.4) specific characteristic compressive strength "
   ]
  },
  {
   "cell_type": "code",
   "execution_count": 3,
   "metadata": {
    "collapsed": false,
    "deletable": true,
    "editable": true
   },
   "outputs": [],
   "source": [
    "import math\n",
    "import os\n",
    "import matplotlib.pyplot as plt\n",
    "import numpy as np\n",
    "from collections import OrderedDict as OD\n"
   ]
  },
  {
   "cell_type": "code",
   "execution_count": 4,
   "metadata": {
    "collapsed": true
   },
   "outputs": [],
   "source": [
    "def CEBFIB(fc, rho, dmax):\n",
    "    ################################################\n",
    "    # Compressive strength\n",
    "    # (CEB-FIB Model Code 2010 5.1.4)\n",
    "    # specific characteristic compressive strength \n",
    "    fck     = fc\n",
    "    # MPa\n",
    "    delta_f = 8.\n",
    "    # mean compressive strength\n",
    "    fcm     = fck + delta_f \n",
    "    # biaxial compression strength, MPa\n",
    "    fbc     = 1.15*fck\n",
    "    ################################################\n",
    "    # Tensile strength\n",
    "    # (CEB-FIB Model Code 2010 5.1.5.1)\n",
    "    # mean value of tensile strenght for fck <= C50\n",
    "    if fck <= 50:\n",
    "        fctm = 0.3*pow(fck,2./3.)\n",
    "    # mean value of tensile strenght for fck >  C50\n",
    "    else:\n",
    "        fctm = 2.12*math.log(1+0.1*(fck+delta_f))\n",
    "    # lower bounds for characteristic tensile strenght\n",
    "    fck_min = 0.7*fctm\n",
    "    # upper bounds for characteristic tensile strenght\n",
    "    fck_max = 1.3*fctm\n",
    "    # uniaxial tensile strenght\n",
    "    ft      = fctm\n",
    "    # biaxial tensile strength\n",
    "    fbt     = ft\n",
    "    ################################################\n",
    "    # Fracture energy\n",
    "    # (CEB-FIB Model Code 2010 5.1.5.2)             \n",
    "    # Gf = 73*pow(fcm,0.18) # fracture energy\n",
    "    # MPa\n",
    "    fcm0    = 10.0                                  \n",
    "    # Base value for fracture energy, Nmm/mm^2\n",
    "    Gf0     = 0.021+5.357E-4*dmax\n",
    "    # Fracture energy, Nmm/mm^2\n",
    "    Gf      = Gf0*pow(fcm/fcm0, 0.7)\n",
    "    ################################################\n",
    "    # Elastic poperties \n",
    "    # (CEB-FIB Model Code 2010 5.1.7.2)\n",
    "    # MPa\n",
    "    Ec0     = 2.15E+4\n",
    "    # aggregate qualititive values\n",
    "    alpha_E = 1.0\n",
    "    # Elacticity modulud at 28 day\n",
    "    Eci = Ec0*alpha_E*pow((fck+delta_f)/fcm0,1./3.) \n",
    "    alpha_i = 0.8+0.2*fcm/88\n",
    "    if not(alpha_i <= 1.0): alpha_i = 1.0\n",
    "    # Reduced elasticity modulus \n",
    "    Ec  = alpha_i*Eci                               \n",
    "    E   = Eci\n",
    "    # Poisson ratio for stresses -0.6*fck < sigma <0.8*fctk\n",
    "    nu  = 0.2                                       \n",
    "    # Shear modulus\n",
    "    G   = E/(2.*(1+nu))                             \n",
    "    # Bulk modulus\n",
    "    K   = E/(3.*(1-2.*nu))                          \n",
    "    ################################################\n",
    "    # MAT_CONCRETE_DAMAGE_PLASTIC_MODEL stecial data\n",
    "    #  Tensile softening branch for exponential tensile damage formulation\n",
    "    WF  = Gf/ft\n",
    "    ksi = ft*(fbc**2-fc**2)/(fbc*(fc**2-ft**2))\n",
    "    ECC = (1+ksi)/(1-ksi)\n",
    "    ################################################\n",
    "    # Record data from CEB-FIB estimations\n",
    "    data = {}\n",
    "    data['density']                      = rho  \n",
    "    data['compressive strength']         = fc   \n",
    "    data['aggregate size']               = dmax \n",
    "    data['mean compressive strength']    = fcm   \n",
    "    data['tensile strenght']             = ft     \n",
    "    data['biaxial compression strength'] = fbc   \n",
    "    data['fracture energy']              = Gf     \n",
    "    data['poisson ratio']                = nu     \n",
    "    data['elasticity modulus']           = E       \n",
    "    data['shear modulus']                = G       \n",
    "    data['bulk modulus']                 = K \n",
    "    data['tensile threshold']            = WF\n",
    "    data['eccentricity parameter']       = ECC\n",
    "    for key in data:\n",
    "        print '{0} = {1}'.format(key.capitalize(), data[key])\n",
    "    return data"
   ]
  },
  {
   "cell_type": "code",
   "execution_count": 5,
   "metadata": {
    "collapsed": false
   },
   "outputs": [
    {
     "name": "stdout",
     "output_type": "stream",
     "text": [
      "Shear modulus = 15111.50192\n",
      "Bulk modulus = 20148.6692267\n",
      "Tensile strenght = 3.50882128586\n",
      "Elasticity modulus = 36267.604608\n",
      "Density = 2.3e-09\n",
      "Mean compressive strength = 48.0\n",
      "Poisson ratio = 0.2\n",
      "Biaxial compression strength = 46.0\n",
      "Aggregate size = 10\n",
      "Compressive strength = 40\n",
      "Eccentricity parameter = 1.05084169819\n",
      "Tensile threshold = 0.0225218257376\n",
      "Fracture energy = 0.0790250615443\n"
     ]
    },
    {
     "data": {
      "text/plain": [
       "{'aggregate size': 10,\n",
       " 'biaxial compression strength': 46.0,\n",
       " 'bulk modulus': 20148.6692266529,\n",
       " 'compressive strength': 40,\n",
       " 'density': 2.3e-09,\n",
       " 'eccentricity parameter': 1.0508416981896893,\n",
       " 'elasticity modulus': 36267.60460797521,\n",
       " 'fracture energy': 0.07902506154425061,\n",
       " 'mean compressive strength': 48.0,\n",
       " 'poisson ratio': 0.2,\n",
       " 'shear modulus': 15111.501919989672,\n",
       " 'tensile strenght': 3.5088212858554386,\n",
       " 'tensile threshold': 0.02252182573755237}"
      ]
     },
     "execution_count": 5,
     "metadata": {},
     "output_type": "execute_result"
    }
   ],
   "source": [
    "CEBFIB(40, 2.3e-9, 10)"
   ]
  },
  {
   "cell_type": "markdown",
   "metadata": {},
   "source": [
    "# TXC"
   ]
  },
  {
   "cell_type": "code",
   "execution_count": 2,
   "metadata": {
    "collapsed": true,
    "deletable": true,
    "editable": true
   },
   "outputs": [],
   "source": [
    "def TXC(fc,J):\n",
    "    alpha  = 13.9846*math.exp(fc/68.8756)-13.8981\n",
    "    theta  = 0.3533-3.3294E-4*fc-3.8182E-6*pow(fc,2)\n",
    "    gamma  = 3.6657*math.exp(fc/39.9363)-4.7092\n",
    "    beta   = 18.17791*pow(fc,-1.7163)\n",
    "    lamda  = gamma\n",
    "    return alpha-lamda*math.exp(-beta*J)+theta*J"
   ]
  },
  {
   "cell_type": "code",
   "execution_count": null,
   "metadata": {
    "collapsed": true
   },
   "outputs": [],
   "source": []
  },
  {
   "cell_type": "code",
   "execution_count": 3,
   "metadata": {
    "collapsed": false,
    "deletable": true,
    "editable": true
   },
   "outputs": [],
   "source": [
    "fck     = fc            # specific characteristic compressive strength \n",
    "delta_f = 8.            # MPa\n",
    "fcm     = fck + delta_f # mean compressive strength\n",
    "fbc     = 1.15*fck      # Biaxial compression strength, MPa"
   ]
  },
  {
   "cell_type": "markdown",
   "metadata": {},
   "source": [
    "# Tensile strength\n",
    "(CEB-FIB Model Code 2010 5.1.5.1)"
   ]
  },
  {
   "cell_type": "code",
   "execution_count": 4,
   "metadata": {
    "collapsed": true,
    "deletable": true,
    "editable": true
   },
   "outputs": [],
   "source": [
    "if fck <= 50:\n",
    "    fctm = 0.3*pow(fck,2./3.)                   # mean value of tensile strenght for fck <= C50\n",
    "else:\n",
    "    fctm = 2.12*math.log(1+0.1*(fck+delta_f))   # mean value of tensile strenght for fck >  C50\n",
    "\n",
    "fck_min = 0.7*fctm                              # lower bounds for characteristic tensile strenght\n",
    "fck_max = 1.3*fctm                              # upper bounds for characteristic tensile strenght\n",
    "ft      = fctm                                  # uniazial tensile strenght\n",
    "fbt     = ft                                    # biaxial tensile strength"
   ]
  },
  {
   "cell_type": "markdown",
   "metadata": {},
   "source": [
    "# Fracture energy\n",
    "(CEB-FIB Model Code 1990)"
   ]
  },
  {
   "cell_type": "code",
   "execution_count": 5,
   "metadata": {
    "collapsed": false,
    "deletable": true,
    "editable": true
   },
   "outputs": [],
   "source": [
    "#Gf      = 73*pow(fcm,0.18)                     # fracture energy (CEB-FIB Model Code 2010 5.1.5.2)\n",
    "dmax    = dagg                                  # maximum aggregate size\n",
    "fcm0    = 10.0                                  # MPa\n",
    "Gf0     = 0.021+5.357E-4*dmax                   # Base value for fracture energy, Nmm/mm^2\n",
    "Gf      = Gf0*pow(fcm/fcm0, 0.7)\t\t        # Fracture energy, Nmm/mm^2\n",
    "WF      = Gf/ft                                 # CDPM Tensile threshold value "
   ]
  },
  {
   "cell_type": "code",
   "execution_count": null,
   "metadata": {
    "collapsed": true
   },
   "outputs": [],
   "source": []
  },
  {
   "cell_type": "code",
   "execution_count": 6,
   "metadata": {
    "collapsed": false,
    "deletable": true,
    "editable": true
   },
   "outputs": [],
   "source": []
  },
  {
   "cell_type": "code",
   "execution_count": 7,
   "metadata": {
    "collapsed": false,
    "deletable": true,
    "editable": true
   },
   "outputs": [],
   "source": [
    "################################################\n",
    "# Parameters for the compressive meridian in TXC\n",
    "################################################\n",
    "alpha  = 13.9846*math.exp(fc/68.8756)-13.8981\n",
    "theta  = 0.3533-3.3294E-4*fc-3.8182E-6*pow(fc,2)\n",
    "gamma  = 3.6657*math.exp(fc/39.9363)-4.7092\n",
    "beta   = 18.17791*pow(fc,-1.7163)\n",
    "lamda  = gamma"
   ]
  },
  {
   "cell_type": "code",
   "execution_count": 8,
   "metadata": {
    "collapsed": true,
    "deletable": true,
    "editable": true
   },
   "outputs": [],
   "source": [
    "################################################\n",
    "# Parameters for the tensile meridian in TOR\n",
    "################################################\n",
    "alpha1 = 0.82\n",
    "theta1 = 0\n",
    "gamma1 = 0.2407\n",
    "beta1  = 0.033565*pow(fc,-0.95383)\n",
    "lamda1 = gamma1"
   ]
  },
  {
   "cell_type": "code",
   "execution_count": 9,
   "metadata": {
    "collapsed": true,
    "deletable": true,
    "editable": true
   },
   "outputs": [],
   "source": [
    "################################################\n",
    "# Parameters for shear meridian in TXE\n",
    "################################################\n",
    "alpha2 = 0.76\n",
    "theta2 = 0\n",
    "gamma2 = 0.26\n",
    "beta2  = 0.285*pow(fc,-0.94843)\n",
    "lamda2 = gamma2"
   ]
  },
  {
   "cell_type": "code",
   "execution_count": 10,
   "metadata": {
    "collapsed": true,
    "deletable": true,
    "editable": true
   },
   "outputs": [],
   "source": [
    "################################################\n",
    "# Cap surface parameters\n",
    "################################################\n",
    "X0 = 17.087+1.892*fc                        # initial location\n",
    "xd = X0 \n",
    "D1 = 6.11E-4                                # linear shape parameter\n",
    "D2 = 2.225E-6                               # quadratic shape parameter\n",
    "W  = 0.065                                  # maximum plastic volume compaction\n",
    "S  = 4.45994*math.exp(-fc/11.51679)+1.95358 # aspect ratio\n",
    "R  = S "
   ]
  },
  {
   "cell_type": "code",
   "execution_count": 11,
   "metadata": {
    "collapsed": true,
    "deletable": true,
    "editable": true
   },
   "outputs": [],
   "source": [
    "################################################\n",
    "# Hardening parameters\n",
    "################################################\n",
    "Nh = 0 # initiation\n",
    "Ch = 0 # rate "
   ]
  },
  {
   "cell_type": "code",
   "execution_count": 12,
   "metadata": {
    "collapsed": true,
    "deletable": true,
    "editable": true
   },
   "outputs": [],
   "source": [
    "################################################\n",
    "# Damage parameters\n",
    "################################################\n",
    "B    = 100      # ductile shape softening parameter\n",
    "Gfc  = Gf       # fracture energy in uniaxial stress\n",
    "D    = 0.1      # brittle shape softening parameter\n",
    "Gft  = 0.01*Gfc # fracture energy in uniaxial tension\n",
    "Gfs  = 0.01*Gfc # fracture energy in pure shear stress\n",
    "pwrc = 5        # shear-to-compression transition parameter\n",
    "pwrt = 1        # shear-to-tension transition parameter\n",
    "pmod = 0        # modify moderate pressure softening parameter"
   ]
  },
  {
   "cell_type": "code",
   "execution_count": 13,
   "metadata": {
    "collapsed": true,
    "deletable": true,
    "editable": true
   },
   "outputs": [],
   "source": [
    "################################################\n",
    "# Rate effects  parameters\n",
    "################################################\n",
    "eta_0_c = 1.2772337E-11*fc**2-1.0613722E-7*fc+3.203497E-4    # rate effects parameter for uniaxial compressive stress\n",
    "eta_c   = 0.78                                               # rate effects power for uniaxial compressive stress\n",
    "eta_0_t = 8.0614774E-13*fc**2-9.77736719E-10*fc+5.0752351E-5 # rate effects parameter for uniaxial tensile stress\n",
    "eta_t   = 0.48                                               # rate effects power for uniaxial tensile stress\n",
    "overc = 1.309663E-2*fc**2-0.3927659*fc+21.45                 # maximum overstress allowed in compression\n",
    "overt = overc                                                # maximum overstress allowed in tension\n",
    "srate = 1                                                    # ratio of effective shear stress to tensile stress fluidity parameters\n",
    "repow = 1                                                    # power that increases fracture energy with rate effects\n"
   ]
  }
 ],
 "metadata": {
  "anaconda-cloud": {},
  "kernelspec": {
   "display_name": "Python 2",
   "language": "python",
   "name": "python2"
  },
  "language_info": {
   "codemirror_mode": {
    "name": "ipython",
    "version": 2
   },
   "file_extension": ".py",
   "mimetype": "text/x-python",
   "name": "python",
   "nbconvert_exporter": "python",
   "pygments_lexer": "ipython2",
   "version": "2.7.12"
  }
 },
 "nbformat": 4,
 "nbformat_minor": 2
}
