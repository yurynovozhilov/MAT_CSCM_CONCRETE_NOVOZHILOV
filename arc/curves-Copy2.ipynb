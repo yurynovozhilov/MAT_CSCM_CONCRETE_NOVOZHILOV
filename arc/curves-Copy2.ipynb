{
 "cells": [
  {
   "cell_type": "code",
   "execution_count": 2,
   "metadata": {},
   "outputs": [],
   "source": [
    "import os\n",
    "import matplotlib.pyplot as plt\n",
    "import numpy as np\n",
    "#import pyperclip\n",
    "from sympy import symbols\n",
    "from collections import OrderedDict as OD\n",
    "#from pint import UnitRegistry"
   ]
  },
  {
   "cell_type": "markdown",
   "metadata": {},
   "source": [
    "### 5.1.4 Compressive strength The"
   ]
  },
  {
   "cell_type": "code",
   "execution_count": 3,
   "metadata": {},
   "outputs": [],
   "source": [
    "def f_ck(f_c): return f_c"
   ]
  },
  {
   "cell_type": "code",
   "execution_count": null,
   "metadata": {},
   "outputs": [],
   "source": [
    "delta_f = 8.0"
   ]
  },
  {
   "cell_type": "code",
   "execution_count": null,
   "metadata": {},
   "outputs": [],
   "source": [
    "def f_cm     = fck + delta_f "
   ]
  },
  {
   "cell_type": "code",
   "execution_count": null,
   "metadata": {},
   "outputs": [],
   "source": []
  },
  {
   "cell_type": "code",
   "execution_count": null,
   "metadata": {},
   "outputs": [],
   "source": []
  },
  {
   "cell_type": "code",
   "execution_count": 4,
   "metadata": {},
   "outputs": [
    {
     "data": {
      "text/plain": [
       "OrderedDict([('fc', 40.0),\n",
       "             ('fcm0', 10.0),\n",
       "             ('fcm', 48.0),\n",
       "             ('ft', 3.5088212858554386),\n",
       "             ('ftt', 3.5088212858554386),\n",
       "             ('fbc', 46.0),\n",
       "             ('Gfc', 8.866205941257894),\n",
       "             ('Gft', 0.08866205941257894),\n",
       "             ('Gfs', 0.08866205941257894),\n",
       "             ('dmax', 16.0),\n",
       "             ('rho', 2.4e-09),\n",
       "             ('nu', 0.2),\n",
       "             ('E', 36267.60460797521),\n",
       "             ('Eci', 36267.60460797521),\n",
       "             ('G', 15111.501919989672),\n",
       "             ('K', 20148.6692266529),\n",
       "             ('WF', 0.025268331496388376),\n",
       "             ('epsilon_c1', -0.0022),\n",
       "             ('Ec1', 21818.181818181816)])"
      ]
     },
     "execution_count": 4,
     "metadata": {},
     "output_type": "execute_result"
    }
   ],
   "source": [
    "def CEBFIB(fc = 40.0, dmax = 16.0, rho = 2.4E-9):\n",
    "    ################################################\n",
    "    # Compressive strength\n",
    "    # (CEB-FIB Model Code 2010 5.1.4)\n",
    "    # specific characteristic compressive strength \n",
    "    fck     = fc\n",
    "    # MPa\n",
    "    delta_f = 8.\n",
    "    # mean compressive strength\n",
    "    fcm     = fck + delta_f \n",
    "    # biaxial compression strength, MPa\n",
    "    fbc     = 1.15*fck\n",
    "    ################################################\n",
    "    # Tensile strength\n",
    "    # (CEB-FIB Model Code 2010 5.1.5.1)\n",
    "    # mean value of tensile strenght for fck <= C50\n",
    "    if fck <= 50:\n",
    "        fctm = 0.3*pow(fck,2./3.)\n",
    "    # mean value of tensile strenght for fck >  C50\n",
    "    else:\n",
    "        fctm = 2.12*np.log(1+0.1*(fck+delta_f))\n",
    "    # lower bounds for characteristic tensile strenght\n",
    "    fck_min = 0.7*fctm\n",
    "    # upper bounds for characteristic tensile strenght\n",
    "    fck_max = 1.3*fctm\n",
    "    # uniaxial tensile strenght\n",
    "    ft      = fctm\n",
    "    # biaxial tensile strength\n",
    "    fbt     = ft\n",
    "    # triaxial tensile strength\n",
    "    ftt     = ft\n",
    "    ################################################\n",
    "    # Fracture energy\n",
    "    # (CEB-FIB Model Code 2010 5.1.5.2)             \n",
    "    # Gf = 73*pow(fcm,0.18) # fracture energy\n",
    "    # MPa\n",
    "    fcm0    = 10.0                                  \n",
    "    # Base value for fracture energy, Nmm/mm^2\n",
    "    Gf0     = 0.021+5.357E-4*dmax\n",
    "    # Fracture energy, Nmm/mm^2\n",
    "    Gft      = Gf0*pow(fcm/fcm0, 0.7)\n",
    "    Gfc      = Gft*100\n",
    "    Gfs      = Gft\n",
    "    ################################################\n",
    "    # Elastic poperties \n",
    "    # (CEB-FIB Model Code 2010 5.1.7.2)\n",
    "    # MPa\n",
    "    Ec0     = 2.15E+4\n",
    "    # aggregate qualititive values\n",
    "    alpha_E = 1.0\n",
    "    # Elacticity modulud at 28 day\n",
    "    Eci = Ec0*alpha_E*pow((fck+delta_f)/fcm0,1./3.) \n",
    "    alpha_i = 0.8+0.2*fcm/88\n",
    "    if alpha_i > 1.0: \n",
    "        alpha_i = 1.0\n",
    "    # Reduced elasticity modulus \n",
    "    Ec  = alpha_i*Eci                               \n",
    "    E   = Eci\n",
    "    # Poisson ratio for stresses -0.6*fck < sigma <0.8*fctk\n",
    "    nu  = 0.2                                       \n",
    "    # Shear modulus\n",
    "    G   = E/(2.*(1+nu))                             \n",
    "    # Bulk modulus\n",
    "    K   = E/(3.*(1-2.*nu))       \n",
    "    ################################################\n",
    "    # Stress-strain diagram for uniaxial compression\n",
    "    # (CEB-FIB Model Code 1990 2.1.4.4)\n",
    "    # Strain coressponding to fcm\n",
    "    epsilon_c1=-0.0022\n",
    "    # secan modulus from the origin to the peak compressive stress fcm\n",
    "    Ec1=fcm/abs(epsilon_c1)\n",
    "    ################################################\n",
    "    # MAT_CONCRETE_DAMAGE_PLASTIC_MODEL stecial data\n",
    "    # Tensile softening branch for exponential tensile damage formulation\n",
    "    Gf  = Gft\n",
    "    WF  = Gf/ft\n",
    "    # ksi = ft*(fbc**2-fc**2)/(fbc*(fc**2-ft**2))\n",
    "    # ECC = (1+ksi)/(1-ksi)\n",
    "    ################################################\n",
    "    # Record data from CEB-FIB estimations\n",
    "    data = OD()\n",
    "    data['fc']   = fc  \n",
    "    data['fcm0'] = fcm0  \n",
    "    data['fcm']  = fcm \n",
    "    data['fcm']  = fcm   \n",
    "    data['ft']   = ft \n",
    "    data['ftt']  = ftt     \n",
    "    data['fbc']  = fbc \n",
    "    data['Gfc']  = Gfc\n",
    "    data['Gft']  = Gft     \n",
    "    data['Gfs']  = Gfs     \n",
    "    data['dmax'] = dmax\n",
    "    data['rho']  = rho \n",
    "    data['nu']   = nu     \n",
    "    data['E']    = E \n",
    "    data['Eci']  = Eci\n",
    "    data['G']    = G       \n",
    "    data['K']    = K \n",
    "    data['WF']   = WF\n",
    "    data['epsilon_c1'] = epsilon_c1\n",
    "    data['Ec1'] = Ec1\n",
    "    #data['ECC']  = ECC    \n",
    "    return data\n",
    "\n",
    "CEBFIB()\n"
   ]
  },
  {
   "cell_type": "markdown",
   "metadata": {},
   "source": [
    "# Stress-strain curve"
   ]
  },
  {
   "cell_type": "code",
   "execution_count": 6,
   "metadata": {},
   "outputs": [
    {
     "data": {
      "image/png": "[encoded data removed]",
      "text/plain": [
       "<matplotlib.figure.Figure at 0x11206c240>"
      ]
     },
     "metadata": {},
     "output_type": "display_data"
    }
   ],
   "source": [
    "def StressStreinCompressionCurve(fc=40.0):\n",
    "    ################################################\n",
    "    # (CEB-FIB Model Code 2010 2.1.4.4.1)\n",
    "    # MPa\n",
    "    data = CEBFIB(fc)\n",
    "    E_relative=data['Eci']/data['Ec1']\n",
    "    \n",
    "    # ascending brunch before epsilon_c_lim\n",
    "    epsilon_c_lim=(0.5*(0.5*E_relative+1)+pow(0.25*pow(0.5*E_relative+1,2)-0.5,0.5))*data['epsilon_c1']\n",
    "    epsilon_c = np.linspace(epsilon_c_lim, 0, 100) \n",
    "    epsilon_relative_1=epsilon_c/data['epsilon_c1']\n",
    "    sigma_c = (E_relative*epsilon_relative_1-pow(epsilon_relative_1,2))\n",
    "    sigma_c /= (1+(E_relative-2)*epsilon_relative_1)\n",
    "    sigma_c *= -data['fc']\n",
    "    \n",
    "    x = epsilon_c\n",
    "    y = sigma_c\n",
    "    \n",
    "    # descending brunch after epsilon_c_lim\n",
    "    epsilon_c = np.linspace(epsilon_c_lim*5.0, epsilon_c_lim, 100) \n",
    "    epsilon_relative_1=epsilon_c/data['epsilon_c1']\n",
    "    epsilon_relative_2 = epsilon_c_lim/data['epsilon_c1']\n",
    "    \n",
    "    \n",
    "    xi  = 4.0*(pow(epsilon_relative_2,2)*(E_relative-2)+2*epsilon_relative_2-E_relative)\n",
    "    xi /= pow(epsilon_relative_2*(E_relative-2)+1,2)\n",
    "    a   = 1.0/epsilon_relative_2\n",
    "    sigma_c  = (xi*a-2*pow(a,2))\n",
    "    sigma_c *= pow(epsilon_relative_1,2)\n",
    "    sigma_c += (4*a-xi)*epsilon_relative_1\n",
    "    sigma_c  = -data['fc']/sigma_c\n",
    "    \n",
    "    x = np.concatenate((epsilon_c,x))\n",
    "    y = np.concatenate((sigma_c,y))\n",
    "    \n",
    "    #sscurve = np.vstack((x,y)).transpose()\n",
    "    \n",
    "    ##\n",
    "    return x, y\n",
    "   \n",
    "    \n",
    "epsilon_c, sigma_c = StressStreinCompressionCurve()\n",
    "\n",
    "fig = plt.figure()\n",
    "ax = fig.add_subplot(111)\n",
    "fontsize=15 \n",
    "imgSizeYinches=10\n",
    "imgSizeXinches=15\n",
    "linewidth=2.0\n",
    "fig.set_size_inches(imgSizeXinches, imgSizeYinches, forward=True)\n",
    "ax.grid(True)\n",
    "ax.xaxis.grid(True)\n",
    "ax.yaxis.grid(True)\n",
    "ax.plot(epsilon_c, sigma_c, label = u'rev = 1',color='blue',linewidth=2.0)\n",
    "plt.show()\n",
    "np.savetxt(\"stress-strein uncofiend compression curve.csv\", np.vstack((epsilon_c, sigma_c)).transpose(), delimiter=\",\")\n"
   ]
  },
  {
   "cell_type": "code",
   "execution_count": null,
   "metadata": {
    "collapsed": true
   },
   "outputs": [],
   "source": [
    "def StressStreinTesionCurve(fc=40.0):\n",
    "    # \n",
    "    data = CEBFIB(fc)\n",
    "    E_relative=data['Eci']/data['Ec1']\n",
    "    \n",
    "    # ascending brunch before epsilon_c_lim\n",
    "    epsilon_c_lim=(0.5*(0.5*E_relative+1)+pow(0.25*pow(0.5*E_relative+1,2)-0.5,0.5))*data['epsilon_c1']\n",
    "    epsilon_c = np.linspace(epsilon_c_lim, 0, 100) \n",
    "    epsilon_relative_1=epsilon_c/data['epsilon_c1']\n",
    "    sigma_c = (E_relative*epsilon_relative_1-pow(epsilon_relative_1,2))\n",
    "    sigma_c /= (1+(E_relative-2)*epsilon_relative_1)\n",
    "    sigma_c *= -data['fc']\n",
    "    \n",
    "    x = epsilon_c\n",
    "    y = sigma_c\n",
    "    \n",
    "    # descending brunch after epsilon_c_lim\n",
    "    epsilon_c = np.linspace(epsilon_c_lim*5.0, epsilon_c_lim, 100) \n",
    "    epsilon_relative_1=epsilon_c/data['epsilon_c1']\n",
    "    epsilon_relative_2 = epsilon_c_lim/data['epsilon_c1']\n",
    "    \n",
    "    \n",
    "    xi  = 4.0*(pow(epsilon_relative_2,2)*(E_relative-2)+2*epsilon_relative_2-E_relative)\n",
    "    xi /= pow(epsilon_relative_2*(E_relative-2)+1,2)\n",
    "    a   = 1.0/epsilon_relative_2\n",
    "    sigma_c  = (xi*a-2*pow(a,2))\n",
    "    sigma_c *= pow(epsilon_relative_1,2)\n",
    "    sigma_c += (4*a-xi)*epsilon_relative_1\n",
    "    sigma_c  = -data['fc']/sigma_c\n",
    "    \n",
    "    x = np.concatenate((epsilon_c,x))\n",
    "    y = np.concatenate((sigma_c,y))\n",
    "    \n",
    "    #sscurve = np.vstack((x,y)).transpose()\n",
    "    \n",
    "    ##\n",
    "    return x, y\n",
    "   \n",
    "    \n",
    "epsilon_c, sigma_c = StressStreinCompressionCurve()\n",
    "\n",
    "fig = plt.figure()\n",
    "ax = fig.add_subplot(111)\n",
    "fontsize=15 \n",
    "imgSizeYinches=10\n",
    "imgSizeXinches=15\n",
    "linewidth=2.0\n",
    "fig.set_size_inches(imgSizeXinches, imgSizeYinches, forward=True)\n",
    "ax.grid(True)\n",
    "ax.xaxis.grid(True)\n",
    "ax.yaxis.grid(True)\n",
    "ax.plot(epsilon_c, sigma_c, label = u'rev = 1',color='blue',linewidth=2.0)\n",
    "plt.show()\n",
    "np.savetxt(\"stress-strein uncofiend compression curve.csv\", np.vstack((epsilon_c, sigma_c)).transpose(), delimiter=\",\")\n",
    "\n"
   ]
  },
  {
   "cell_type": "code",
   "execution_count": null,
   "metadata": {
    "collapsed": true
   },
   "outputs": [],
   "source": [
    "def P(fc, Ap,Bp,Cp):\n",
    "    return Ap*pow(fc,2)+Bp*fc+Cp"
   ]
  },
  {
   "cell_type": "code",
   "execution_count": null,
   "metadata": {
    "collapsed": true
   },
   "outputs": [],
   "source": [
    "def concPlot(x,\n",
    "             y1,\n",
    "             y2,\n",
    "             lable1='rev 1', \n",
    "             label2='rev 2', \n",
    "             xLabel='Ox',\n",
    "             yLabel='Oy',\n",
    "             fontsize=15, \n",
    "             imgSizeYinches=10, \n",
    "             imgSizeXinches=15,\n",
    "             linewidth=2.0,\n",
    "             xlim_0 = -100,\n",
    "             xlim_1 = 100,\n",
    "             ylim_0 = -100,\n",
    "             ylim_1 = 100,\n",
    "            ):\n",
    "\n",
    "    fig = plt.figure()\n",
    "    ax = fig.add_subplot(111)\n",
    "\n",
    "    fig.set_size_inches(imgSizeXinches, imgSizeYinches, forward=True)\n",
    "\n",
    "    ax.plot(x, y1, label = u'rev = 1',color='blue',linewidth=2.0)\n",
    "    ax.plot(x, y2, label = u'rev = 2',color='red',linewidth=2.0)\n",
    "\n",
    "    ax.grid(True)\n",
    "    ax.xaxis.grid(True)\n",
    "    ax.yaxis.grid(True)\n",
    "    \n",
    "    ax.set_xlim([xlim_0,xlim_1])\n",
    "    ax.set_ylim([ylim_0,ylim_1])\n",
    "    \n",
    "    ax.spines['right'].set_color('none')\n",
    "    ax.spines['top'].set_color('none')\n",
    "\n",
    "    ax.xaxis.set_ticks_position('bottom')\n",
    "    ax.spines['bottom'].set_position(('data',0))\n",
    "\n",
    "    ax.yaxis.set_ticks_position('left')\n",
    "    ax.spines['left'].set_position(('data',0))\n",
    "\n",
    "    for label in ax.xaxis.get_ticklabels(): label.set_fontsize(fontsize)\n",
    "    for label in ax.yaxis.get_ticklabels(): label.set_fontsize(fontsize)\n",
    "\n",
    "    plt.legend(loc='upper left',prop={'size':fontsize+4})\n",
    "    plt.xlabel(xLabel).set_fontsize(fontsize+4)\n",
    "    plt.ylabel(yLabel).set_fontsize(fontsize+4)\n",
    "    plt.show()\n",
    "    return "
   ]
  },
  {
   "cell_type": "markdown",
   "metadata": {},
   "source": [
    "The yield surface is formulated in terms of three stress invariants because an isotropic material has three independent stress invariants. The model uses $J_{1}$ — the first invariant of the stress tensor, $J′_{2}$ — the second invariant of the deviatoric stress tensor, and $J′_{3}$ — the third invariant of the deviatoric stress tensor\n",
    "The invariants are defined in terms of the deviatoric stress tensor, $S_{ij}$ and pressure, $P$ as shown in Figure 17. \n",
    "\n",
    "$$J_{1}=3P$$\n",
    "$$J'_{2}=\\frac{1}{2}S_{ij}S_{ij}$$\n",
    "$$J'_{3}=\\frac{1}{3}S_{ij}S_{jk}S_{ki}$$ \n",
    "Figure 17. Equation. Stress invariant $J_{1}$ , $J′_{2}$, and $J′_{3}$\n"
   ]
  },
  {
   "cell_type": "markdown",
   "metadata": {},
   "source": [
    "The three invariant yield function is based on these three invariants, and the cap hardening parameter, $\\kappa$, as shown in Figure 18:\n",
    "$$\n",
    "f(J_{1},J'_{2},J'_{3},\\kappa)=J'_{2}-\\mathfrak{R}^2F^2_{f}F_{c}\n",
    "$$\n",
    "Figure 18. Equation. Yield function $f$.\n",
    "\n",
    "Here $F_{f}$ is the shear failure surface, $F_{c}$ is the hardening cap, and $\\mathfrak{R}$ is the Rubin three-invariant reduction factor. Multiplying the cap ellipse function by the shear surface function allows the cap and shear surfaces to take on the same slope at their intersection, as discussed in subsequent paragraphs."
   ]
  },
  {
   "cell_type": "markdown",
   "metadata": {},
   "source": [
    "# Parameters for the compressive meridian (TXC)"
   ]
  },
  {
   "cell_type": "code",
   "execution_count": null,
   "metadata": {
    "collapsed": true
   },
   "outputs": [],
   "source": [
    "def alpha(fc,rev=1):\n",
    "    if rev   == 1: return P(fc, -0.003, 0.3169747, 7.7047)\n",
    "    elif rev == 2: return 13.9846*np.exp(fc/68.8756)-13.8981\n",
    "    else: return False "
   ]
  },
  {
   "cell_type": "code",
   "execution_count": null,
   "metadata": {
    "collapsed": true
   },
   "outputs": [],
   "source": [
    "def lamda(fc,rev=1):\n",
    "    if   rev == 1: return P(fc, 0.0, 0.0, 10.5)\n",
    "    elif rev == 2: return 3.6657*np.exp(fc/39.9363)-4.7092\n",
    "    else: return False "
   ]
  },
  {
   "cell_type": "code",
   "execution_count": null,
   "metadata": {
    "collapsed": true
   },
   "outputs": [],
   "source": [
    "def beta(fc,rev=1):\n",
    "    if rev   == 1: return P(fc, 0.0, 0.0, 1.929E-02)\n",
    "    elif rev == 2: return 18.17791*pow(fc,-1.7163)\n",
    "    else: return False "
   ]
  },
  {
   "cell_type": "code",
   "execution_count": null,
   "metadata": {
    "collapsed": true
   },
   "outputs": [],
   "source": [
    "def theta(fc,rev=1):\n",
    "    if   rev == 1: return P(fc, 1.3216E-05, 2.3548E-03, 0.2140058)\n",
    "    elif rev == 2: return 0.3533-3.3294E-4*fc-3.8182E-6*pow(fc,2)\n",
    "    else: return False "
   ]
  },
  {
   "cell_type": "code",
   "execution_count": null,
   "metadata": {
    "collapsed": true
   },
   "outputs": [],
   "source": [
    "def TXC(fc, J, rev):\n",
    "    return alpha(fc,rev)-lamda(fc,rev)*np.exp(-beta(fc,rev)*J)+theta(fc,rev)*J"
   ]
  },
  {
   "cell_type": "markdown",
   "metadata": {},
   "source": [
    "# Parameters for the compressive meridian in TOR"
   ]
  },
  {
   "cell_type": "code",
   "execution_count": null,
   "metadata": {
    "collapsed": true
   },
   "outputs": [],
   "source": [
    "def alpha1(fc,rev=1):\n",
    "    if rev   == 1: return P(fc, 0, 0, 0.74735)\n",
    "    elif rev == 2: return 0.82\n",
    "    else: return False "
   ]
  },
  {
   "cell_type": "code",
   "execution_count": null,
   "metadata": {
    "collapsed": true
   },
   "outputs": [],
   "source": [
    "def lamda1(fc,rev=1):\n",
    "    if   rev == 1: return P(fc, 0, 0, 0.17)\n",
    "    elif rev == 2: return 0.26\n",
    "    else: return False "
   ]
  },
  {
   "cell_type": "code",
   "execution_count": null,
   "metadata": {
    "collapsed": true
   },
   "outputs": [],
   "source": [
    "def beta1(fc,rev=1):\n",
    "    if rev   == 1: return P(fc, -1.9972e-05, 2.2655e-04, 8.1748e-02)\n",
    "    elif rev == 2: return 0.285*pow(fc,-0.94843)\n",
    "    else: return False "
   ]
  },
  {
   "cell_type": "code",
   "execution_count": null,
   "metadata": {
    "collapsed": true
   },
   "outputs": [],
   "source": [
    "def theta1(fc,rev=1):\n",
    "    if   rev == 1: return P(fc, -4.0856E-07, -1.2132E-06, 1.5593E-03)\n",
    "    elif rev == 2: return 0\n",
    "    else: return False "
   ]
  },
  {
   "cell_type": "code",
   "execution_count": null,
   "metadata": {
    "collapsed": true
   },
   "outputs": [],
   "source": [
    "def Q1(fc, J, rev=1): \n",
    "    return alpha1(fc,rev)-lamda1(fc,rev)*np.exp(-beta1(fc,rev)*J)+theta1(fc,rev)*J"
   ]
  },
  {
   "cell_type": "code",
   "execution_count": null,
   "metadata": {
    "collapsed": true
   },
   "outputs": [],
   "source": [
    "def TOR(fc, J, rev=1):\n",
    "    return Q1(fc,J,rev)*TXC(fc,J,rev)"
   ]
  },
  {
   "cell_type": "markdown",
   "metadata": {},
   "source": [
    "# Parameters for TXE"
   ]
  },
  {
   "cell_type": "code",
   "execution_count": null,
   "metadata": {
    "collapsed": true
   },
   "outputs": [],
   "source": [
    "def alpha2(fc,rev=1):\n",
    "    if rev   == 1: return P(fc, 0, 0, 0.66)\n",
    "    elif rev == 2: return 0.76\n",
    "    else: return False "
   ]
  },
  {
   "cell_type": "code",
   "execution_count": null,
   "metadata": {
    "collapsed": true
   },
   "outputs": [],
   "source": [
    "def lamda2(fc,rev=1):\n",
    "    if   rev == 1: return P(fc, 0, 0, 0.16)\n",
    "    elif rev == 2: return 0.26\n",
    "    else: return False "
   ]
  },
  {
   "cell_type": "code",
   "execution_count": null,
   "metadata": {
    "collapsed": true
   },
   "outputs": [],
   "source": [
    "def beta2(fc,rev=1):\n",
    "    if rev   == 1: return P(fc, -1.9972e-05, 2.2655e-04, 8.2748e-02)\n",
    "    elif rev == 2: return 0.285*pow(fc,-0.94843)\n",
    "    else: return False "
   ]
  },
  {
   "cell_type": "code",
   "execution_count": null,
   "metadata": {
    "collapsed": true
   },
   "outputs": [],
   "source": [
    "def theta2(fc,rev=1):\n",
    "    if   rev == 1: return P(fc, -4.8697e-07, -1.8883e-06, 1.8822e-03)\n",
    "    elif rev == 2: return 0\n",
    "    else: return False "
   ]
  },
  {
   "cell_type": "code",
   "execution_count": null,
   "metadata": {
    "collapsed": true
   },
   "outputs": [],
   "source": [
    "def Q2(fc, J, rev=1):\n",
    "    return alpha2(fc,rev)-lamda2(fc,rev)*np.exp(-beta2(fc,rev)*J)+theta2(fc,rev)*J"
   ]
  },
  {
   "cell_type": "code",
   "execution_count": null,
   "metadata": {
    "collapsed": true
   },
   "outputs": [],
   "source": [
    "def TXE(fc, J, rev=1):\n",
    "    return Q2(fc,J,rev)*TXC(fc,J,rev)"
   ]
  },
  {
   "cell_type": "markdown",
   "metadata": {},
   "source": [
    "# CAP"
   ]
  },
  {
   "cell_type": "code",
   "execution_count": null,
   "metadata": {
    "collapsed": true
   },
   "outputs": [],
   "source": [
    "def X0(fc,rev=1):\n",
    "    if rev   == 1: return P(fc, 8.769178e-03, -7.3302306e-02, 84.85)\n",
    "    elif rev == 2: return 17.087+1.892*fc\n",
    "    else: return False "
   ]
  },
  {
   "cell_type": "code",
   "execution_count": null,
   "metadata": {
    "collapsed": true
   },
   "outputs": [],
   "source": [
    "def R(fc,rev=1):\n",
    "    if rev   == 1: return 5\n",
    "    elif rev == 2: return 4.45994*np.exp(-fc/11.51679)+1.95358\n",
    "    else: return False "
   ]
  },
  {
   "cell_type": "code",
   "execution_count": null,
   "metadata": {
    "collapsed": true
   },
   "outputs": [],
   "source": [
    "def W(fc,rev=1):\n",
    "    if rev   == 1: return 0.05\n",
    "    elif rev == 2: return 0.065\n",
    "    else: return False "
   ]
  },
  {
   "cell_type": "code",
   "execution_count": null,
   "metadata": {
    "collapsed": true
   },
   "outputs": [],
   "source": [
    "def D1(fc,rev=1):\n",
    "    if rev   == 1: return 2.5E-4\n",
    "    elif rev == 2: return 6.11e-4\n",
    "    else: return False "
   ]
  },
  {
   "cell_type": "code",
   "execution_count": null,
   "metadata": {
    "collapsed": true
   },
   "outputs": [],
   "source": [
    "def D2(fc,rev=1):\n",
    "    if rev   == 1: return 3.49E-7\n",
    "    elif rev == 2: return 2.225E-6\n",
    "    else: return False "
   ]
  },
  {
   "cell_type": "code",
   "execution_count": null,
   "metadata": {
    "collapsed": true
   },
   "outputs": [],
   "source": [
    "def plasticVolumetricStrain(fc,X,rev=1):\n",
    "    return W(fc,rev)*(1-np.exp(-D1(fc,rev)*(X-X0(fc,rev))-D2(fc,rev)*pow(X-X0(fc,rev),2)))"
   ]
  },
  {
   "cell_type": "code",
   "execution_count": null,
   "metadata": {
    "collapsed": true
   },
   "outputs": [],
   "source": [
    "def hydrostaticCompressionParameters(fc,X,rev=1):\n",
    "    return D1(fc,rev)*(X-X0(fc,rev))+D2(fc,rev)*pow(X-X0(fc,rev),2)"
   ]
  },
  {
   "cell_type": "markdown",
   "metadata": {},
   "source": [
    "# Damage"
   ]
  },
  {
   "cell_type": "code",
   "execution_count": null,
   "metadata": {
    "collapsed": true
   },
   "outputs": [],
   "source": [
    "def B(fc,rev=1):\n",
    "    if rev   == 1: return 100\n",
    "    elif rev == 2: return False ######\n",
    "    else: return False "
   ]
  },
  {
   "cell_type": "code",
   "execution_count": null,
   "metadata": {
    "collapsed": true
   },
   "outputs": [],
   "source": [
    "def D(fc,rev=1):\n",
    "    if rev   == 1: return 0.1\n",
    "    elif rev == 2: return False #####\n",
    "    else: return False "
   ]
  },
  {
   "cell_type": "markdown",
   "metadata": {},
   "source": [
    "# Strain rate"
   ]
  },
  {
   "cell_type": "code",
   "execution_count": null,
   "metadata": {
    "collapsed": true
   },
   "outputs": [],
   "source": [
    "def eta_t(fc,rev=1): \n",
    "    if rev   == 1: return 0.48\n",
    "    elif rev == 2: return 0\n",
    "    else: return False "
   ]
  },
  {
   "cell_type": "code",
   "execution_count": null,
   "metadata": {
    "collapsed": true
   },
   "outputs": [],
   "source": [
    "def eta_0_t(fc,rev=1): \n",
    "    fc_in_psi= fc*145.0377\n",
    "    if rev   == 1: return P(fc_in_psi, 8.0614774E-13, -9.77736719E-10, 5.0752351E-05)\n",
    "    elif rev == 2: return 0\n",
    "    else: return False "
   ]
  },
  {
   "cell_type": "code",
   "execution_count": null,
   "metadata": {
    "collapsed": true
   },
   "outputs": [],
   "source": [
    "def eta_c(fc,rev=1): \n",
    "    if rev   == 1: return 0.78\n",
    "    elif rev == 2: return 0\n",
    "    else: return False "
   ]
  },
  {
   "cell_type": "code",
   "execution_count": null,
   "metadata": {
    "collapsed": true
   },
   "outputs": [],
   "source": [
    "def eta_0_c(fc,rev=1):\n",
    "    fc_in_psi= fc*145.0377\n",
    "    if rev   == 1: return P(fc_in_psi, 1.2772337E-11, -1.0613722E-07, 3.203497E-4)\n",
    "    elif rev == 2: return 0\n",
    "    else: return False"
   ]
  },
  {
   "cell_type": "code",
   "execution_count": null,
   "metadata": {
    "collapsed": true
   },
   "outputs": [],
   "source": [
    "def overt(fc,rev=1): \n",
    "    return P(fc, 1.309663E-02, -0.3927659, 21.45)    "
   ]
  },
  {
   "cell_type": "code",
   "execution_count": null,
   "metadata": {
    "collapsed": true
   },
   "outputs": [],
   "source": [
    "def overc(fc,rev=1): \n",
    "    return overt(fc,rev=1)"
   ]
  },
  {
   "cell_type": "markdown",
   "metadata": {},
   "source": [
    "# Plot and check"
   ]
  },
  {
   "cell_type": "markdown",
   "metadata": {},
   "source": [
    "## Smooth transition between the tensile and compressive pressure regions\n",
    "This is accomplished by setting:\n",
    "$$\\alpha_{1} – \\lambda_{1} = 0.5774$$ \n",
    "\n",
    "$$Q_{1}\\Bigr|_{P=0} = 0.5774$$ "
   ]
  },
  {
   "cell_type": "code",
   "execution_count": null,
   "metadata": {
    "collapsed": true
   },
   "outputs": [],
   "source": [
    "fc=40\n",
    "J=0 \n",
    "print(\"alpha1(rev=1)-lamda1(rev=1) = {0}\".format(alpha1(fc,rev=1)-lamda1(fc,rev=1)))\n",
    "print(\"alpha1(rev=2)-lamda1(rev=2) = {0}\".format(alpha1(fc,rev=2)-lamda1(fc,rev=2)))\n",
    "\n",
    "print(\"Q1(P=0, rev=1) = {0}\".format(Q1(fc,J,1)))\n",
    "print(\"Q1(P=0, rev=2) = {0}\".format(Q1(fc,J,2)))"
   ]
  },
  {
   "cell_type": "markdown",
   "metadata": {},
   "source": [
    "$$\\alpha_{2} – \\lambda_{2} = 0.5$$\n",
    "\n",
    "$$Q_{2}\\Bigr|_{P=0} = 0.5$$"
   ]
  },
  {
   "cell_type": "code",
   "execution_count": null,
   "metadata": {
    "collapsed": true
   },
   "outputs": [],
   "source": [
    "print(\"alpha2(rev=1)-lamda2(rev=1) = {0}\".format(alpha2(fc,rev=1)-lamda2(fc,rev=1)))\n",
    "print(\"alpha2(rev=2)-lamda2(rev=2) = {0}\".format(alpha2(fc,rev=2)-lamda2(fc,rev=2)))\n",
    "\n",
    "print(\"Q2(P=0, rev=1) = {0}\".format(Q2(40,0,1)))\n",
    "print(\"Q2(P=0, rev=2) = {0}\".format(Q2(40,0,2)))"
   ]
  },
  {
   "cell_type": "code",
   "execution_count": null,
   "metadata": {
    "collapsed": true
   },
   "outputs": [],
   "source": [
    "#Q1 Mhor-Coulomb fit \n",
    "def Q1MC(fc, rev=1):\n",
    "    return np.sqrt(3)*Q2(fc,rev)/(1+Q2(fc, rev))"
   ]
  },
  {
   "cell_type": "code",
   "execution_count": null,
   "metadata": {
    "collapsed": true
   },
   "outputs": [],
   "source": [
    "#Q2 Mhor-Coulomb fit \n",
    "def Q2MC(fc, rev=1):\n",
    "    return TXE(fc, rev=1)/TXC(fc, rev=1)"
   ]
  },
  {
   "cell_type": "markdown",
   "metadata": {},
   "source": [
    "## Willam-Warnke fit\n",
    "$$\n",
    "Q_{1}=\\frac{\\sqrt{3}(1-Q^2_{2})+(2Q_{2}-1)\\sqrt{3(1-Q^2_{2})+5Q^2_{2}-4Q_{2}}}{3(1-Q^2_{2})+(1-2Q_{2})^2}\n",
    "$$"
   ]
  },
  {
   "cell_type": "code",
   "execution_count": null,
   "metadata": {
    "collapsed": true
   },
   "outputs": [],
   "source": [
    "#Q2 Willam-Warnke fit\n",
    "def Q1WW(fc, rev=1):\n",
    "    q=(1-pow(Q2(fc, rev),2))\n",
    "    return (np.sqrt(3)*q+(2*Q2(fc, rev)-1)*np.sqrt((3*q)+5*pow(Q2(fc, rev),2)-4*Q2(fc, rev)))/(3*q+pow(1-2*Q2(fc, rev),2))"
   ]
  },
  {
   "cell_type": "code",
   "execution_count": null,
   "metadata": {
    "collapsed": true
   },
   "outputs": [],
   "source": [
    "def TORMC(fc, J, rev=1):\n",
    "    return Q1MC(fc,J,rev)*TXC(fc,J,rev)"
   ]
  },
  {
   "cell_type": "code",
   "execution_count": null,
   "metadata": {
    "collapsed": true
   },
   "outputs": [],
   "source": [
    "def TXEMC(fc, rev=1):\n",
    "    return Q2MC(fc,J,rev)*TXC(fc,J,rev)"
   ]
  },
  {
   "cell_type": "code",
   "execution_count": null,
   "metadata": {
    "collapsed": true
   },
   "outputs": [],
   "source": [
    "def TORWW(fc, J, rev=1):\n",
    "    return Q1WW(fc,J,rev)*TXC(fc,J,rev)"
   ]
  },
  {
   "cell_type": "code",
   "execution_count": null,
   "metadata": {
    "collapsed": true
   },
   "outputs": [],
   "source": [
    "fc = 40 \n",
    "\n",
    "X = np.linspace(0, 1200, 100) \n",
    "plotHCP = plt.figure() \n",
    "plotHCP.add_axes([0, 0, 1, 1])\n",
    "plt.title('Hydrostatic Compression Parameters')\n",
    "plt.plot(X,hydrostaticCompressionParameters(fc,X,rev=1),label = u'rev = 1',color='blue',linewidth=3.0)\n",
    "plt.plot(X,hydrostaticCompressionParameters(fc,X,rev=2),label = u'rev = 2',color='red',linewidth=3.0)\n",
    "plt.xlabel('$J_{1}$, MPa')\n",
    "plt.ylabel('$-ln(\\epsilon^0_{V}/W)$')\n",
    "plt.grid(True)\n",
    "plt.legend()  \n",
    "plt.show()"
   ]
  },
  {
   "cell_type": "code",
   "execution_count": null,
   "metadata": {
    "collapsed": true
   },
   "outputs": [],
   "source": [
    "fc = 40 \n",
    "\n",
    "xMin = 0\n",
    "xMax = 1200\n",
    "x = np.linspace(xMin, xMax, 100) \n",
    "y1 = hydrostaticCompressionParameters(fc,x,rev=1)\n",
    "y2 = hydrostaticCompressionParameters(fc,x,rev=2)\n",
    "\n",
    "concPlot(x,\n",
    "         y1,\n",
    "         y2, \n",
    "         xLabel = '$J_{1}$, MPa', \n",
    "         yLabel = '$-ln(\\epsilon^0_{V}/W)$',\n",
    "         xlim_0 = xMin, \n",
    "         xlim_1 = xMax,\n",
    "         ylim_0 = 0, \n",
    "         ylim_1 = 3.5\n",
    "        )"
   ]
  },
  {
   "cell_type": "code",
   "execution_count": null,
   "metadata": {
    "collapsed": true
   },
   "outputs": [],
   "source": [
    "xMin = 10\n",
    "xMax = 100\n",
    "\n",
    "fc = np.linspace(10, 100, 20)\n",
    "concPlot(fc,\n",
    "         X0(fc,rev=1),\n",
    "         X0(fc,rev=2), \n",
    "         xLabel = '$fc$, MPa', \n",
    "         yLabel = '$X0$, MPa',\n",
    "         xlim_0 = xMin, \n",
    "         xlim_1 = xMax,\n",
    "         ylim_0 = 0, \n",
    "         ylim_1 = 250\n",
    "        )"
   ]
  },
  {
   "cell_type": "code",
   "execution_count": null,
   "metadata": {
    "collapsed": true
   },
   "outputs": [],
   "source": [
    "fc = 40 \n",
    "\n",
    "J = np.linspace(-3*CEBFIB(fc, dmax=10)['ftt'], X0(fc, rev=1), 100) \n",
    "plotTXC = plt.figure() \n",
    "plotTXC.add_axes([0, 0, 2, 2])\n",
    "plt.title('Compressive meridian (TXC)')\n",
    "plt.plot(J, TXC(fc,J,rev=1),  color='blue')\n",
    "plt.plot(J, TXC(fc,J,rev=2),  color='red')\n",
    "plt.xlabel('$J_{1}$, MPa')\n",
    "plt.ylabel('$\\sqrt{J_{2}}$, MPa')\n",
    "plt.grid(True)\n",
    "plt.show()"
   ]
  },
  {
   "cell_type": "code",
   "execution_count": null,
   "metadata": {
    "collapsed": true
   },
   "outputs": [],
   "source": [
    "J = np.linspace(-3*CEBFIB(fc, dmax=10)['ftt'], X0(fc, rev=1), 100) \n",
    "plotTOR = plt.figure() \n",
    "plotTOR.add_axes([0, 0, 2, 2])\n",
    "plt.title('Shear meridian (TOR)')\n",
    "plt.plot(J, TOR(fc,J,rev=1),  color='blue')\n",
    "plt.plot(J, TOR(fc,J,rev=2),  color='red')\n",
    "plt.xlabel('J, MPa')\n",
    "plt.ylabel('TOR')\n",
    "plt.grid(True)\n",
    "plt.show()"
   ]
  },
  {
   "cell_type": "code",
   "execution_count": null,
   "metadata": {
    "collapsed": true
   },
   "outputs": [],
   "source": [
    "J = np.linspace(-3*CEBFIB(fc, dmax=10)['ftt'], X0(fc, rev=1), 100) \n",
    "plotTXE = plt.figure() \n",
    "plotTXE.add_axes([0, 0, 2, 2])\n",
    "plt.title('Tension meridian (TXE)')\n",
    "plt.plot(J, TXE(fc,J,rev=1),  color='blue')\n",
    "plt.plot(J, TXE(fc,J,rev=2),  color='red')\n",
    "plt.xlabel('J, MPa')\n",
    "plt.ylabel('TXE')\n",
    "plt.grid(True)\n",
    "plt.show()"
   ]
  },
  {
   "cell_type": "code",
   "execution_count": null,
   "metadata": {
    "collapsed": true
   },
   "outputs": [],
   "source": [
    "fc = 40\n",
    "\n",
    "X = np.linspace(0, 200, 100) \n",
    "plotX = plt.figure() \n",
    "plotX.add_axes([0, 0, 2, 2])\n",
    "plt.title('Isotropic compression data')\n",
    "plt.plot(plasticVolumetricStrain(fc,X,rev=1), X,  color='blue')\n",
    "plt.plot(plasticVolumetricStrain(fc,X,rev=2), X,  color='red')\n",
    "plt.xlabel('$\\epsilon^p_{V}$')\n",
    "plt.ylabel('$X = J_{1}, MPa$')\n",
    "plt.grid(True)\n",
    "plt.show()\n"
   ]
  },
  {
   "cell_type": "markdown",
   "metadata": {},
   "source": [
    "# Stress-strain curve"
   ]
  },
  {
   "cell_type": "code",
   "execution_count": null,
   "metadata": {
    "collapsed": true
   },
   "outputs": [],
   "source": []
  },
  {
   "cell_type": "markdown",
   "metadata": {},
   "source": [
    "# Keyword output"
   ]
  },
  {
   "cell_type": "code",
   "execution_count": null,
   "metadata": {
    "collapsed": true
   },
   "outputs": [],
   "source": [
    "def HP(strflag):\n",
    "    # CDPM Hardening parameter\n",
    "    if   strflag == 1: return 0.5\n",
    "    elif strflag == 0: return 0.01\n",
    "    else: return False "
   ]
  },
  {
   "cell_type": "code",
   "execution_count": null,
   "metadata": {
    "collapsed": true
   },
   "outputs": [],
   "source": [
    "def CEBFIPout(fc, dmax, rho = 2.4E-9):\n",
    "    items = CEBFIB(fc, dmax,rho)\n",
    "    text  = '$#\\n'\n",
    "    text += '$# CEBFIP Estimations:\\n'\n",
    "    for key in items:\n",
    "        text += '$# {0} = {1:G}\\n'.format(key,items[key])\n",
    "    text += '$#\\n'\n",
    "    return text"
   ]
  },
  {
   "cell_type": "code",
   "execution_count": null,
   "metadata": {
    "collapsed": true
   },
   "outputs": [],
   "source": [
    "def CDPM(\n",
    "    concreteClass = 30, \n",
    "    dmax        = 19, \n",
    "    mid         = 273, \n",
    "    ecc         = 0,     # Eccentricity parameter\n",
    "    isoflag     = 0,     # Anisotropic damage formulation\n",
    "    rho         = 2.4E-9, \n",
    "    qh0         = 0,     # Initial hardening \n",
    "    strflag     = 'on',  # Strain rate flag\n",
    "    ah          = 0,     # Hardening ductility parameter 1          \n",
    "    bh          = 0,     # Hardening ductility parameter 2 \n",
    "    ch          = 0,     # Hardening ductility parameter 3 \n",
    "    dh          = 0,     # Hardening ductility parameter 4 \n",
    "    as_         = 0,     # Ductility parameter during damage  \n",
    "    df          = 0,     # Flow rule parameter\n",
    "    damage_type = 'lin', # Flag for damage type: lin, bi, expo, no\n",
    "    bs          = 0,     # Damage ductility exponent during damage\n",
    "    mesh        = 'hex', # Mesh type: hex or tet\n",
    "    wf1         = 0,     # Tensile threshold value for the second part of the bi-linear damage formulation\n",
    "    ft1         = 0,     # Tensile strength threshold value for bi-linear damage formulation\n",
    "    failflg     = 'off', # Failure flag\n",
    "    efc         = 1.e-3  # Parament fro exponential compressive damage formulation (recomended by Peter Grassl)\n",
    "    ):\n",
    "    data = CEBFIB(concreteClass,dmax)\n",
    "    CDPM = OD()\n",
    "    #\n",
    "    # Strain rate flag parsing\n",
    "    #\n",
    "    if strflag == 'on': \n",
    "        strflag = 1\n",
    "    elif strflag == 'off': \n",
    "        strflag = 0\n",
    "    else: \n",
    "        print(\"Error in ireate\")\n",
    "    # \n",
    "    # Anisotropic damage formulation parsing\n",
    "    #\n",
    "    if isoflag == 0: \n",
    "        isoflag = 1\n",
    "    elif isoflag == 1: \n",
    "        isoflag = -1\n",
    "    else: \n",
    "        print(\"Error in isoflag\")\n",
    "    # \n",
    "    # Flag for damage type parsing\n",
    "    #\n",
    "    if damage_type == 'lin': \n",
    "        wf = data['WF']*2\n",
    "        damage_type = 0.0\n",
    "    # нужна проверка wf1 ft1\n",
    "    elif damage_type == 'bi': \n",
    "        wf = data['WF']*4.444\n",
    "        damage_type = 1.0\n",
    "    elif damage_type == 'exp':\n",
    "        wf = data['WF']\n",
    "        damage_type = 2.0\n",
    "    elif damage_type == 'no':\n",
    "        damage_type = 3.0\n",
    "        wf = 0.0\n",
    "    else: \n",
    "        print(\"Error in TYPE\")\n",
    "    # \n",
    "    # FE mesh type parsing\n",
    "    #\n",
    "    if mesh == 'tet': \n",
    "        wf *= 0.56\n",
    "    elif mesh == 'hex': \n",
    "        pass\n",
    "    else: \n",
    "        print(\"Error in mesh type\")\n",
    "    # \n",
    "    # FE mesh erosion parsing\n",
    "    #\n",
    "    if failflg == 'off': \n",
    "        failflg = 0.0\n",
    "    elif failflg > 0.0: \n",
    "        pass\n",
    "    else: \n",
    "        print(\"Error in FAILFLG\")\n",
    "    #\n",
    "    CDPM['NAME']    = '*MAT_CONCRETE_DAMAGE_PLASTIC_MODEL'\n",
    "    #\n",
    "    CDPM['MID']     = {'card':1, 'position':1, 'type':'A8', 'value':mid}\n",
    "    CDPM['RHO']     = {'card':1, 'position':2, 'type':'F',  'value':rho}\n",
    "    CDPM['E']       = {'card':1, 'position':3, 'type':'F',  'value':data['E']*isoflag}\n",
    "    CDPM['PR']      = {'card':1, 'position':4, 'type':'F',  'value':data['nu']}\n",
    "    CDPM['ECC']     = {'card':1, 'position':5, 'type':'F',  'value':ecc}\n",
    "    CDPM['QH0']     = {'card':1, 'position':6, 'type':'F',  'value':qh0}\n",
    "    CDPM['FT']      = {'card':1, 'position':7, 'type':'F',  'value':data['ft']}\n",
    "    CDPM['FC']      = {'card':1, 'position':8, 'type':'F',  'value':data['fc']}\n",
    "    #    \n",
    "    CDPM['HP']      = {'card':2, 'position':1, 'type':'F',  'value':HP(strflag)}\n",
    "    CDPM['AH']      = {'card':2, 'position':2, 'type':'F',  'value':ah}\n",
    "    CDPM['BH']      = {'card':2, 'position':3, 'type':'F',  'value':bh}\n",
    "    CDPM['CH']      = {'card':2, 'position':4, 'type':'F',  'value':ch}\n",
    "    CDPM['DH']      = {'card':2, 'position':5, 'type':'F',  'value':dh}\n",
    "    CDPM['AS']      = {'card':2, 'position':6, 'type':'F',  'value':as_}\n",
    "    CDPM['DF']      = {'card':2, 'position':7, 'type':'F',  'value':df}\n",
    "    CDPM['FC0']     = {'card':2, 'position':8, 'type':'F',  'value':data['fcm0']}\n",
    "    #  \n",
    "    CDPM['TYPE']    = {'card':3, 'position':1, 'type':'F',  'value':damage_type}\n",
    "    CDPM['BS']      = {'card':3, 'position':2, 'type':'F',  'value':bs}\n",
    "    CDPM['WF']      = {'card':3, 'position':3, 'type':'F',  'value':wf}\n",
    "    CDPM['WF1']     = {'card':3, 'position':4, 'type':'F',  'value':wf1}\n",
    "    CDPM['FT1']     = {'card':3, 'position':5, 'type':'F',  'value':ft1}\n",
    "    CDPM['STRFLG']  = {'card':3, 'position':6, 'type':'F',  'value':strflag}\n",
    "    CDPM['FAILFLG'] = {'card':3, 'position':7, 'type':'F',  'value':failflg}\n",
    "    CDPM['EFC']     = {'card':3, 'position':8, 'type':'F',  'value':efc}\n",
    "    #  \n",
    "    return CDPM"
   ]
  },
  {
   "cell_type": "code",
   "execution_count": null,
   "metadata": {
    "collapsed": true
   },
   "outputs": [],
   "source": [
    "def CSCM(\n",
    "    concreteClass = 30, \n",
    "    dmax    = 19, \n",
    "    mid     = 159,   \n",
    "    rho     = 2.4E-9, \n",
    "    nplot   = 1,      # maximum of brittle and ductile damage \n",
    "    incre   = 0,      # maximum strain increment for subincrementation.\n",
    "    irate   = 'on',   # rate effects model turned on\n",
    "    erode   = 'off', \n",
    "    recov   = 'full', # the modulus is recovered in compression when RECOV is equal to 0\n",
    "    itretrc = 0,      # cap does not retract \n",
    "    pred    = 'off',  # preexisting damage \n",
    "    srate   = 1,      # ratio of effective shear stress to tensile stress fluidity parameters\n",
    "    repow   = 1,      # power that increases fracture energy with rate effects\n",
    "    nh      = 0,      # hardening initiation\n",
    "    ch      = 0,      # hardening rate\n",
    "    pwrc    = 5,      # shear-to-compression transition parameter\n",
    "    pwrt    = 1,      # shear-to-tension transition parameter\n",
    "    pmod    = 0,      # modify moderate pressure softening parameter\n",
    "    rev = 1\n",
    "    ):\n",
    "    #\n",
    "    if irate == 'on': \n",
    "        irate = 1\n",
    "    elif irate == 'off': \n",
    "        irate = 0\n",
    "    else:\n",
    "        print(\"Error in ireate\")\n",
    "    #\n",
    "    if erode == 'off': \n",
    "        erode = 0.99\n",
    "    else: \n",
    "        erode = 1+ float(erode)\n",
    "    #\n",
    "    if pred == 'off': \n",
    "        pred = 0\n",
    "    else: \n",
    "        pred = float(pred)\n",
    "    #\n",
    "    if recov == 'full': \n",
    "        recov = 0\n",
    "    else: \n",
    "        recov = 1-float(recov)\n",
    "    #\n",
    "    data = CEBFIB(concreteClass,dmax)\n",
    "    CSCM = OD()\n",
    "    CSCM['NAME']    = '*MAT_CSCM'\n",
    "    #\n",
    "    CSCM['MID']     = {'card':1, 'position':1, 'type':'A8', 'value':mid}\n",
    "    CSCM['RHO']     = {'card':1, 'position':2, 'type':'F',  'value':rho}\n",
    "    CSCM['NPLOT']   = {'card':1, 'position':3, 'type':'I',  'value':nplot}\n",
    "    CSCM['INCRE']   = {'card':1, 'position':4, 'type':'F',  'value':incre}\n",
    "    CSCM['IRATE']   = {'card':1, 'position':5, 'type':'I',  'value':irate}\n",
    "    CSCM['ERODE']   = {'card':1, 'position':6, 'type':'F',  'value':erode}\n",
    "    CSCM['RECOV']   = {'card':1, 'position':7, 'type':'F',  'value':recov}\n",
    "    CSCM['ITRETRC'] = {'card':1, 'position':8, 'type':'I',  'value':itretrc}\n",
    "    #   \n",
    "    CSCM['PRED']    = {'card':2, 'position':1, 'type':'F',  'value':pred}\n",
    "    #\n",
    "    CSCM['G']       = {'card':3, 'position':1, 'type':'F',  'value':data['G']}\n",
    "    CSCM['K']       = {'card':3, 'position':2, 'type':'F',  'value':data['K']}\n",
    "    CSCM['ALPHA']   = {'card':3, 'position':3, 'type':'F',  'value':alpha(data['fc'],rev)}\n",
    "    CSCM['THETA']   = {'card':3, 'position':4, 'type':'F',  'value':theta(data['fc'],rev)}\n",
    "    CSCM['LAMBDA']  = {'card':3, 'position':5, 'type':'F',  'value':lamda(data['fc'],rev)}\n",
    "    CSCM['BETA']    = {'card':3, 'position':6, 'type':'F',  'value': beta(data['fc'],rev)}\n",
    "    CSCM['NH']      = {'card':3, 'position':7, 'type':'F',  'value':nh}\n",
    "    CSCM['CH']      = {'card':3, 'position':8, 'type':'F',  'value':ch}\n",
    "    #\n",
    "    CSCM['ALPHA1']  = {'card':4, 'position':1, 'type':'F',  'value':alpha1(data['fc'],rev)}\n",
    "    CSCM['THETA1']  = {'card':4, 'position':2, 'type':'F',  'value':theta1(data['fc'],rev)}\n",
    "    CSCM['LAMBDA1'] = {'card':4, 'position':3, 'type':'F',  'value':lamda1(data['fc'],rev)}\n",
    "    CSCM['BETA1']   = {'card':4, 'position':4, 'type':'F',  'value': beta2(data['fc'],rev)}\n",
    "    CSCM['ALPHA2']  = {'card':4, 'position':5, 'type':'F',  'value':alpha2(data['fc'],rev)}\n",
    "    CSCM['THETA2']  = {'card':4, 'position':6, 'type':'F',  'value':theta2(data['fc'],rev)}\n",
    "    CSCM['LAMBDA2'] = {'card':4, 'position':7, 'type':'F',  'value':lamda2(data['fc'],rev)}\n",
    "    CSCM['BETA2']   = {'card':4, 'position':8, 'type':'F',  'value': beta2(data['fc'],rev)}\n",
    "    #\n",
    "    CSCM['R']       = {'card':5, 'position':1, 'type':'F',  'value': R(data['fc'],rev)}\n",
    "    CSCM['X0']      = {'card':5, 'position':2, 'type':'F',  'value':X0(data['fc'],rev)}\n",
    "    CSCM['W']       = {'card':5, 'position':3, 'type':'F',  'value': W(data['fc'],rev)}\n",
    "    CSCM['D1']      = {'card':5, 'position':4, 'type':'F',  'value':D1(data['fc'],rev)}\n",
    "    CSCM['D2']      = {'card':5, 'position':5, 'type':'F',  'value':D2(data['fc'],rev)}\n",
    "    #\n",
    "    CSCM['B']       = {'card':6, 'position':1, 'type':'F',  'value':B(data['fc'],1)}\n",
    "    CSCM['GFC']     = {'card':6, 'position':2, 'type':'F',  'value':data['Gfc']}\n",
    "    CSCM['D']       = {'card':6, 'position':3, 'type':'F',  'value':D(data['fc'],1)}\n",
    "    CSCM['GFT']     = {'card':6, 'position':4, 'type':'F',  'value':data['Gft']}\n",
    "    CSCM['GFS']     = {'card':6, 'position':5, 'type':'F',  'value':data['Gfs']}\n",
    "    CSCM['PWRC']    = {'card':6, 'position':6, 'type':'F',  'value':pwrc}\n",
    "    CSCM['PWRT']    = {'card':6, 'position':7, 'type':'F',  'value':pwrt}\n",
    "    CSCM['PMOD']    = {'card':6, 'position':8, 'type':'F',  'value':pmod}\n",
    "    #\n",
    "    CSCM['ETA_0_C'] = {'card':7, 'position':1, 'type':'F',  'value':eta_0_c(data['fc'],rev)}\n",
    "    CSCM['ETA_C']   = {'card':7, 'position':2, 'type':'F',  'value':  eta_c(data['fc'],rev)}\n",
    "    CSCM['ETA_0_T'] = {'card':7, 'position':3, 'type':'F',  'value':eta_0_t(data['fc'],rev)}\n",
    "    CSCM['ETA_T']   = {'card':7, 'position':4, 'type':'F',  'value':  eta_t(data['fc'],rev)}\n",
    "    CSCM['OVERC']   = {'card':7, 'position':5, 'type':'F',  'value':  overc(data['fc'],rev)}\n",
    "    CSCM['OVERT']   = {'card':7, 'position':6, 'type':'F',  'value':  overt(data['fc'],rev)}\n",
    "    CSCM['SRATE']   = {'card':7, 'position':7, 'type':'F',  'value':srate}\n",
    "    CSCM['REPOW']   = {'card':7, 'position':8, 'type':'F',  'value':repow}  \n",
    "    return CSCM"
   ]
  },
  {
   "cell_type": "code",
   "execution_count": null,
   "metadata": {
    "collapsed": true
   },
   "outputs": [],
   "source": [
    "def keyword2text(\n",
    "    data,             # ordered dict with card data to be processed\n",
    "    wordLength  = 10, # word lenght in case of dp keyword\n",
    "    wordNumber  = 8   # word number in card line\n",
    "    ): \n",
    "    emptyCard   = ' '*wordLength*wordNumber\n",
    "    cardCount   = 0\n",
    "    planeText   = ''\n",
    "    items = list(data.keys())[1:]\n",
    "    keywordText = [data['NAME']]\n",
    "    for key in items:\n",
    "        if int(data[key]['card'])>cardCount:\n",
    "            cardCount = data[key]['card']\n",
    "            keywordText.append('')\n",
    "            keywordText.append('')\n",
    "        if data[key]['position'] == 1: \n",
    "            keywordText[2*cardCount-1] += '$#{0: >{1}s}'.format(key,wordLength-2)\n",
    "        else:                          \n",
    "            keywordText[2*cardCount-1] +=  ' {0: >{1}s}'.format(key,wordLength-1)\n",
    "        if data[key]['value'] == 'AUTO':\n",
    "            keywordText[2*cardCount]   +=   '{0}'.format(' '*wordLength)\n",
    "        else:\n",
    "            if data[key]['type']   == 'A8': \n",
    "                keywordText[2*cardCount]+=   ' {0:>{1}s}'.format(  str(data[key]['value']),wordLength-1)\n",
    "            elif data[key]['type'] == 'I':  \n",
    "                keywordText[2*cardCount]+=   ' {0:>{1}d}'.format(  int(data[key]['value']),wordLength-1)\n",
    "            elif data[key]['type'] == 'F':  \n",
    "                keywordText[2*cardCount]+=' {0:{1}.{2}G}'.format(float(data[key]['value']),wordLength-1,wordLength-6)\n",
    "            else:                           \n",
    "                keywordText[2*cardCount]+=          '{0}'.format(' '*wordLength)                     \n",
    "    for lines in keywordText: planeText+=lines+'\\n'\n",
    "    return planeText"
   ]
  },
  {
   "cell_type": "code",
   "execution_count": null,
   "metadata": {
    "collapsed": true
   },
   "outputs": [],
   "source": [
    "fc = 40\n",
    "dmax = 19.0\n",
    "rho  = 2.4E-9\n",
    "rev  = 2"
   ]
  },
  {
   "cell_type": "code",
   "execution_count": null,
   "metadata": {
    "collapsed": true
   },
   "outputs": [],
   "source": [
    "print(keyword2text(CSCM(concreteClass=fc,dmax=dmax,irate='on',erode='off', pred='off', recov = 'full', rev=rev)) + CEBFIPout(fc, dmax, rho ))"
   ]
  },
  {
   "cell_type": "code",
   "execution_count": null,
   "metadata": {
    "collapsed": true
   },
   "outputs": [],
   "source": [
    "print(keyword2text(CDPM(concreteClass=fc,dmax=dmax,mesh='hex',strflag = 'on',damage_type = 'lin')) + CEBFIPout(fc, dmax, rho ))"
   ]
  },
  {
   "cell_type": "code",
   "execution_count": null,
   "metadata": {
    "collapsed": true
   },
   "outputs": [],
   "source": []
  }
 ],
 "metadata": {
  "anaconda-cloud": {},
  "kernelspec": {
   "display_name": "Python 3",
   "language": "python",
   "name": "python3"
  },
  "language_info": {
   "codemirror_mode": {
    "name": "ipython",
    "version": 3
   },
   "file_extension": ".py",
   "mimetype": "text/x-python",
   "name": "python",
   "nbconvert_exporter": "python",
   "pygments_lexer": "ipython3",
   "version": "3.6.5"
  }
 },
 "nbformat": 4,
 "nbformat_minor": 1
}
