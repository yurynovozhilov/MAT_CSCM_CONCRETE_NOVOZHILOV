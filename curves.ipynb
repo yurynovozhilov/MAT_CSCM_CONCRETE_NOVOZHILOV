{
 "cells": [
  {
   "cell_type": "code",
   "execution_count": null,
   "metadata": {},
   "outputs": [
    {
     "ename": "",
     "evalue": "",
     "output_type": "error",
     "traceback": [
      "\u001b[1;31mRunning cells with 'Python 3.13.2' requires the ipykernel package.\n",
      "\u001b[1;31mRun the following command to install 'ipykernel' into the Python environment. \n",
      "\u001b[1;31mCommand: '/opt/homebrew/bin/python3 -m pip install ipykernel -U --user --force-reinstall'"
     ]
    }
   ],
   "source": [
    "import os\n",
    "import matplotlib.pyplot as plt\n",
    "import numpy as np\n",
    "#import pyperclip\n",
    "from collections import OrderedDict as OD\n",
    "#from pint import UnitRegistry\n",
    "\n",
    "from d3py import *\n",
    "from CEB import *\n",
    "from plotcurves import *\n",
    "from CapModel import *\n",
    "#from transformation import *"
   ]
  },
  {
   "cell_type": "code",
   "execution_count": null,
   "metadata": {},
   "outputs": [],
   "source": []
  },
  {
   "cell_type": "code",
   "execution_count": null,
   "metadata": {},
   "outputs": [],
   "source": []
  },
  {
   "cell_type": "markdown",
   "metadata": {},
   "source": [
    "# DIF"
   ]
  },
  {
   "cell_type": "code",
   "execution_count": 2,
   "metadata": {},
   "outputs": [],
   "source": [
    "f_c=43.9\n",
    "\n",
    "DIFCompressionCurve={\n",
    "    'array'     : DIF_c(f_c),\n",
    "    'lable'     : 'CEB-FIP Compression',\n",
    "    'color'     : 'red',\n",
    "    'linestyle' : '-',\n",
    "    'linewidth' : 2.0  \n",
    "}\n",
    "\n",
    "DIFTensionCurve={\n",
    "    'array'     : DIF_t(f_c),\n",
    "    'lable'     : 'CEB-FIP Tension',\n",
    "    'color'     : 'blue',\n",
    "    'linestyle' : '-',\n",
    "    'linewidth' : 2.0  \n",
    "}\n",
    "\n",
    "DIFCSCMCompressionCurve={\n",
    "    'array'     : DIFCSCM_c(f_c, rev=1),\n",
    "    'lable'     : 'CSCM Compression',\n",
    "    'color'     : 'red',\n",
    "    'linestyle' : ':',\n",
    "    'linewidth' : 2.0  \n",
    "}\n",
    "\n",
    "DIFCSCMTensionCurve={\n",
    "    'array'     : DIFCSCM_t(f_c, rev=1),\n",
    "    'lable'     : 'CSCM Tension',\n",
    "    'color'     : 'blue',\n",
    "    'linestyle' : ':',\n",
    "    'linewidth' : 2.0  \n",
    "}\n",
    "\n",
    "DIFRMTensionCurve={\n",
    "    'array'     : np.genfromtxt('./data/Malvar & Ross [1998] tension.txt', skip_header =1).T,\n",
    "    'lable'     : 'Malvar & Ross [1998] tension',\n",
    "    'color'     : 'red',\n",
    "    'linestyle' : '--',\n",
    "    'linewidth' : 2.0  \n",
    "}\n",
    "DIFRMCompressionCurve={\n",
    "    'array'     : np.genfromtxt('./data/Malvar & Ross [1998] compression.txt', skip_header =1).T,\n",
    "    'lable'     : 'Malvar & Ross [1998] compression',\n",
    "    'color'     : 'blue',\n",
    "    'linestyle' : '--',\n",
    "    'linewidth' : 2.0  \n",
    "}"
   ]
  },
  {
   "cell_type": "code",
   "execution_count": null,
   "metadata": {},
   "outputs": [],
   "source": [
    "plot(\n",
    "    plotStile(\n",
    "        xLabel = 'Strain Rate, 1/sec',\n",
    "        yLabel = 'DIF',\n",
    "        xScale = 'log',\n",
    "        xLimBottom = 1E-3,\n",
    "        xLimTop = 1e3,\n",
    "        yLimBottom = 0,\n",
    "        yLimTop = 6\n",
    "    ), \n",
    "    DIFCompressionCurve,DIFTensionCurve, DIFCSCMCompressionCurve, DIFCSCMTensionCurve, DIFRMTensionCurve, DIFRMCompressionCurve\n",
    ")\n",
    "\n",
    "#"
   ]
  },
  {
   "cell_type": "markdown",
   "metadata": {},
   "source": [
    "# Stress-strain curve"
   ]
  },
  {
   "cell_type": "code",
   "execution_count": 4,
   "metadata": {},
   "outputs": [],
   "source": [
    "f_c=43.9\n",
    "\n",
    "tensionCurve = dict()\n",
    "tensionCurve['array']     = CEB(f_c)['tension_curve']\n",
    "tensionCurve['lable']     = 'Unconfind tension'\n",
    "tensionCurve['color']     = 'red'\n",
    "tensionCurve['linestyle'] ='-'\n",
    "tensionCurve['linewidth'] = 2.0\n",
    "\n",
    "compressionCurve = dict()\n",
    "compressionCurve['array']     = CEB(f_c)['compression_curve']\n",
    "compressionCurve['lable']     = 'Unconfiend compression'\n",
    "compressionCurve['color']     = 'blue'\n",
    "compressionCurve['linestyle'] ='-'\n",
    "compressionCurve['linewidth'] = 2.0\n",
    "\n",
    "crackOpeningCurve = dict()\n",
    "crackOpeningCurve['array']     = CEB(f_c)['crack_opening_curve']\n",
    "crackOpeningCurve['lable']     = 'Crack opening'\n",
    "crackOpeningCurve['color']     = 'green'\n",
    "crackOpeningCurve['linestyle'] ='-'\n",
    "crackOpeningCurve['linewidth'] = 2.0"
   ]
  },
  {
   "cell_type": "code",
   "execution_count": null,
   "metadata": {},
   "outputs": [],
   "source": [
    "plot(\n",
    "    plotStile(\n",
    "        xLabel = 'Strain',\n",
    "        yLabel = 'Stress, MPa'\n",
    "    ), \n",
    "    tensionCurve\n",
    ")"
   ]
  },
  {
   "cell_type": "code",
   "execution_count": null,
   "metadata": {},
   "outputs": [],
   "source": [
    "plot(\n",
    "    plotStile(\n",
    "        xLabel = 'Crack opening, mm',\n",
    "        yLabel = 'Stress, MPa'\n",
    "    ), \n",
    "    crackOpeningCurve\n",
    ")"
   ]
  },
  {
   "cell_type": "code",
   "execution_count": null,
   "metadata": {},
   "outputs": [],
   "source": [
    "plot(\n",
    "    plotStile(\n",
    "        xLabel = 'Strain',\n",
    "        yLabel = 'Stress, MPa'\n",
    "    ), \n",
    "    compressionCurve\n",
    ")"
   ]
  },
  {
   "cell_type": "markdown",
   "metadata": {},
   "source": [
    "# Plot and check"
   ]
  },
  {
   "cell_type": "markdown",
   "metadata": {},
   "source": [
    "## Smooth transition between the tensile and compressive pressure regions\n",
    "This is accomplished by setting:\n",
    "$$\\alpha_{1} – \\lambda_{1} = 0.5774$$ \n",
    "\n",
    "$$Q_{1}\\Bigr|_{P=0} = 0.5774$$ "
   ]
  },
  {
   "cell_type": "code",
   "execution_count": null,
   "metadata": {},
   "outputs": [],
   "source": [
    "f_c=40\n",
    "J=0 \n",
    "\n",
    "print(\"alpha_1(rev=1) = {0}\".format(alpha_1(f_c,rev=1)))\n",
    "print(\"lamda_1(rev=1) = {0}\".format(lamda_1(f_c,rev=1)))\n",
    "print(\"alpha_1(rev=1)-lamda_1(rev=1) = {0}\".format(alpha_1(f_c,rev=1)-lamda_1(f_c,rev=1)))\n",
    "\n",
    "print(\"alpha_1(rev=3) = {0}\".format(alpha_1(f_c,rev=3)))\n",
    "print(\"lamda_1(rev=3) = {0}\".format(lamda_1(f_c,rev=3)))\n",
    "print(\"alpha_1(rev=3)-lamda_1(rev=3) = {0}\".format(alpha_1(f_c,rev=3)-lamda_1(f_c,rev=3)))\n",
    "\n",
    "print(\"Q1(P=0, rev=1) = {0}\".format(Q_1(f_c,J,1)))\n",
    "print(\"Q1(P=0, rev=3) = {0}\".format(Q_1(f_c,J,3)))"
   ]
  },
  {
   "cell_type": "code",
   "execution_count": null,
   "metadata": {},
   "outputs": [],
   "source": []
  },
  {
   "cell_type": "markdown",
   "metadata": {},
   "source": [
    "$$\\alpha_{2} – \\lambda_{2} = 0.5$$\n",
    "\n",
    "$$Q_{2}\\Bigr|_{P=0} = 0.5$$"
   ]
  },
  {
   "cell_type": "code",
   "execution_count": null,
   "metadata": {},
   "outputs": [],
   "source": [
    "print(\"alpha_2(rev=1)-lamda_2(rev=1) = {0}\".format(alpha_2(f_c,rev=1)-lamda_2(f_c,rev=1)))\n",
    "print(\"alpha_2(rev=3)-lamda_2(rev=3) = {0}\".format(alpha_2(f_c,rev=2)-lamda_2(f_c,rev=2)))\n",
    "\n",
    "print(\"Q_2(P=0, rev=1) = {0}\".format(Q_2(40,0,1)))\n",
    "print(\"Q_2(P=0, rev=2) = {0}\".format(Q_2(40,0,2)))"
   ]
  },
  {
   "cell_type": "code",
   "execution_count": null,
   "metadata": {},
   "outputs": [],
   "source": []
  },
  {
   "cell_type": "code",
   "execution_count": 10,
   "metadata": {},
   "outputs": [],
   "source": [
    "#Q1 Mhor-Coulomb fit \n",
    "def Q1MC(f_c, I, rev=1):\n",
    "    return np.sqrt(3)*Q_2(f_c,I,rev)/(1+Q_2(f_c, I, rev))"
   ]
  },
  {
   "cell_type": "code",
   "execution_count": null,
   "metadata": {},
   "outputs": [],
   "source": []
  },
  {
   "cell_type": "code",
   "execution_count": 11,
   "metadata": {},
   "outputs": [],
   "source": [
    "#Q2 Mhor-Coulomb fit \n",
    "def Q2MC(f_c, I, rev=1):\n",
    "    return TXE(f_c, I, rev)/TXC(f_c, I, rev)"
   ]
  },
  {
   "cell_type": "code",
   "execution_count": null,
   "metadata": {},
   "outputs": [],
   "source": []
  },
  {
   "cell_type": "markdown",
   "metadata": {},
   "source": [
    "## Willam-Warnke fit\n",
    "$$\n",
    "Q_{1}=\\frac{\\sqrt{3}(1-Q^2_{2})+(2Q_{2}-1)\\sqrt{3(1-Q^2_{2})+5Q^2_{2}-4Q_{2}}}{3(1-Q^2_{2})+(1-2Q_{2})^2}\n",
    "$$"
   ]
  },
  {
   "cell_type": "code",
   "execution_count": 12,
   "metadata": {},
   "outputs": [],
   "source": [
    "#Q2 Willam-Warnke fit\n",
    "def Q1WW(f_c, I, rev=1):\n",
    "    q=(1-pow(Q_2(f_c, I, rev),2))\n",
    "    return (np.sqrt(3)*q+(2*Q_2(f_c, I, rev)-1)*np.sqrt((3*q)+5*pow(Q_2(f_c, I, rev),2)-4*Q_2(f_c, I, rev)))/(3*q+pow(1-2*Q_2(f_c, I, rev),2))"
   ]
  },
  {
   "cell_type": "code",
   "execution_count": 13,
   "metadata": {},
   "outputs": [],
   "source": [
    "def TORMC(f_c, J, rev=1):\n",
    "    return Q1MC(f_c,J,rev)*TXC(f_c,J,rev)"
   ]
  },
  {
   "cell_type": "code",
   "execution_count": 14,
   "metadata": {},
   "outputs": [],
   "source": [
    "def TXEMC(f_c, J, rev=1):\n",
    "    return Q2MC(f_c,J,rev)*TXC(f_c,J,rev)"
   ]
  },
  {
   "cell_type": "code",
   "execution_count": 15,
   "metadata": {},
   "outputs": [],
   "source": [
    "def TORWW(f_c, J, rev=1):\n",
    "    return Q1WW(f_c,J,rev)*TXC(f_c,J,rev)"
   ]
  },
  {
   "cell_type": "code",
   "execution_count": null,
   "metadata": {},
   "outputs": [],
   "source": [
    "f_c = 40 \n",
    "X = np.linspace(0, 1200, 100) \n",
    "\n",
    "plotTwoCurves(\n",
    "    x      = X,\n",
    "    y1     = hydrostaticCompressionParameters(f_c,X,rev=1),\n",
    "    y2     = hydrostaticCompressionParameters(f_c,X,rev=2),\n",
    "    title  = 'Hydrostatic Compression Parameters',\n",
    "    label1 = 'rev 1', \n",
    "    label2 = 'rev 2', \n",
    "    xLabel = '$J_{1}$, MPa',\n",
    "    yLabel = '$-ln(\\epsilon^0_{V}/W)$')"
   ]
  },
  {
   "cell_type": "code",
   "execution_count": 17,
   "metadata": {},
   "outputs": [],
   "source": [
    "f_c = 40 \n",
    "TXC_1 = dict()\n",
    "TXC_2 = dict()\n",
    "TXC_3 = dict()\n",
    "\n",
    "TOR_1 = dict()\n",
    "TOR_2 = dict()\n",
    "TOR_3 = dict()\n",
    "\n",
    "TXE_1 = dict()\n",
    "TXE_2 = dict()\n",
    "TXE_3 = dict()\n",
    "\n",
    "J = np.linspace(-3*CEB(f_c, d_max=10)['f_tt'], X0(f_c, rev=1), 100) \n",
    "\n",
    "TXC_1['array'] = np.vstack((J,TXC(f_c,J,rev=1)))\n",
    "TXC_1['lable'] = '$TXC_{1}$'\n",
    "TXC_1['color'] = 'red'\n",
    "TXC_1['linestyle'] ='-'\n",
    "TXC_1['linewidth'] = 2.0\n",
    "\n",
    "TXC_2['array'] = np.vstack((J,TXC(f_c,J,rev=2)))\n",
    "TXC_2['lable'] = '$TXC_{2}$'\n",
    "TXC_2['color'] = 'red'\n",
    "TXC_2['linestyle'] =':'\n",
    "TXC_2['linewidth'] = 2.0\n",
    "\n",
    "TXC_3['array'] = np.vstack((J,TXC(f_c,J,rev=3)))\n",
    "TXC_3['lable'] = '$TXC_{3}$'\n",
    "TXC_3['color'] = 'red'\n",
    "TXC_3['linestyle'] ='--'\n",
    "TXC_3['linewidth'] = 2.0\n",
    "\n",
    "TOR_1['array'] = np.vstack((J,TOR(f_c,J,rev=1)))\n",
    "TOR_1['lable'] = '$TOR_{1}$'\n",
    "TOR_1['color'] = 'blue'\n",
    "TOR_1['linestyle'] ='-'\n",
    "TOR_1['linewidth'] = 2.0\n",
    "\n",
    "TOR_2['array'] = np.vstack((J,TOR(f_c,J,rev=2)))\n",
    "TOR_2['lable'] = '$TOR_{2}$'\n",
    "TOR_2['color'] = 'blue'\n",
    "TOR_2['linestyle'] =':'\n",
    "TOR_2['linewidth'] = 2.0\n",
    "\n",
    "TOR_3['array'] = np.vstack((J,TOR(f_c,J,rev=3)))\n",
    "TOR_3['lable'] = '$TOR_{3}$'\n",
    "TOR_3['color'] = 'blue'\n",
    "TOR_3['linestyle'] ='--'\n",
    "TOR_3['linewidth'] = 2.0\n",
    "\n",
    "TXE_1['array'] = np.vstack((J,TXE(f_c,J,rev=1)))\n",
    "TXE_1['lable'] = '$TXE_{1}$'\n",
    "TXE_1['color'] = 'green'\n",
    "TXE_1['linestyle'] ='-'\n",
    "TXE_1['linewidth'] = 2.0\n",
    "\n",
    "TXE_2['array'] = np.vstack((J,TXE(f_c,J,rev=2)))\n",
    "TXE_2['lable'] = '$TXE_{2}$'\n",
    "TXE_2['color'] = 'green'\n",
    "TXE_2['linestyle'] =':'\n",
    "TXE_2['linewidth'] = 2.0\n",
    "\n",
    "TXE_3['array'] = np.vstack((J,TXE(f_c,J,rev=3)))\n",
    "TXE_3['lable'] = '$TXE_{3}$'\n",
    "TXE_3['color'] = 'green'\n",
    "TXE_3['linestyle'] ='--'\n",
    "TXE_3['linewidth'] = 2.0"
   ]
  },
  {
   "cell_type": "code",
   "execution_count": null,
   "metadata": {},
   "outputs": [],
   "source": [
    "plot(\n",
    "    plotStile(\n",
    "        xLabel = '$I_{1}$, MPa',\n",
    "        yLabel = '$\\sqrt{J_{2}}$, MPa'\n",
    "    ), \n",
    "    TXC_1,\n",
    "    TXC_2,\n",
    "    TXC_3\n",
    ")"
   ]
  },
  {
   "cell_type": "code",
   "execution_count": null,
   "metadata": {},
   "outputs": [],
   "source": [
    "plot(\n",
    "    plotStile(\n",
    "        xLabel = '$J_{1}$, MPa',\n",
    "        yLabel = '$\\sqrt{J_{2}}$, MPa'\n",
    "    ), \n",
    "    TOR_1,\n",
    "    TOR_2,\n",
    "    TOR_3\n",
    ")"
   ]
  },
  {
   "cell_type": "code",
   "execution_count": null,
   "metadata": {},
   "outputs": [],
   "source": [
    "plot(\n",
    "    plotStile(\n",
    "        xLabel = '$I_{1}$, MPa',\n",
    "        yLabel = '$\\sqrt{J_{2}}$, MPa'\n",
    "    ), \n",
    "    TXE_1,\n",
    "    TXE_2,\n",
    "    TXE_3\n",
    ")"
   ]
  },
  {
   "cell_type": "code",
   "execution_count": null,
   "metadata": {},
   "outputs": [],
   "source": [
    "plot(\n",
    "    plotStile(\n",
    "        xLabel = '$I_{1}$, MPa',\n",
    "        yLabel = '$\\sqrt{J_{2}}$, MPa'\n",
    "    ), \n",
    "    TXC_1,\n",
    "    TXE_1,\n",
    "    TOR_1\n",
    ")"
   ]
  },
  {
   "cell_type": "code",
   "execution_count": null,
   "metadata": {},
   "outputs": [],
   "source": [
    "plot(\n",
    "    plotStile(\n",
    "        xLabel = '$I_{1}$, MPa',\n",
    "        yLabel = '$\\sqrt{J_{2}}$, MPa'\n",
    "    ), \n",
    "    TXC_2,\n",
    "    TXE_2,\n",
    "    TOR_2\n",
    ")"
   ]
  },
  {
   "cell_type": "code",
   "execution_count": null,
   "metadata": {},
   "outputs": [],
   "source": [
    "plot(\n",
    "    plotStile(\n",
    "        xLabel = '$I_{1}$, MPa',\n",
    "        yLabel = '$\\sqrt{J_{2}}$, MPa'\n",
    "    ), \n",
    "    TXC_3,\n",
    "    TXE_3,\n",
    "    TOR_3\n",
    ")"
   ]
  },
  {
   "cell_type": "markdown",
   "metadata": {},
   "source": [
    "# Keyword output"
   ]
  },
  {
   "cell_type": "code",
   "execution_count": null,
   "metadata": {
    "scrolled": true
   },
   "outputs": [],
   "source": [
    "f_c = 33\n",
    "\n",
    "\n",
    "d_max = 18\n",
    "rho = 2.4E-09\n",
    "\n",
    "#rho = 0.0024\n",
    "\n",
    "MAT_CSCM = CSCM(\n",
    "    f_c   = f_c,\n",
    "    dmax  = d_max,\n",
    "    irate = 'on',\n",
    "    erode = 'off', \n",
    "    pred  = 'off', \n",
    "    recov = 'full'\n",
    "    )\n",
    "print(keyword2text(MAT_CSCM) + CEBout(f_c, d_max, rho ))"
   ]
  },
  {
   "cell_type": "markdown",
   "metadata": {},
   "source": []
  },
  {
   "cell_type": "code",
   "execution_count": null,
   "metadata": {},
   "outputs": [],
   "source": []
  }
 ],
 "metadata": {
  "anaconda-cloud": {},
  "kernelspec": {
   "display_name": "Python 3",
   "language": "python",
   "name": "python3"
  },
  "language_info": {
   "codemirror_mode": {
    "name": "ipython",
    "version": 3
   },
   "file_extension": ".py",
   "mimetype": "text/x-python",
   "name": "python",
   "nbconvert_exporter": "python",
   "pygments_lexer": "ipython3",
   "version": "3.13.2"
  }
 },
 "nbformat": 4,
 "nbformat_minor": 4
}
